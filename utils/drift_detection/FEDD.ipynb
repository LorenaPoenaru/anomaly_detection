{
 "cells": [
  {
   "cell_type": "code",
   "execution_count": 4,
   "id": "96f65239",
   "metadata": {},
   "outputs": [],
   "source": [
    "import pandas as pd\n",
    "import os\n",
    "from statsmodels.tsa.stattools import acf, pacf\n",
    "import numpy as np\n",
    "from scipy.spatial.distance import cosine\n",
    "from scipy import stats\n",
    "from tqdm import tqdm\n",
    "import math\n",
    "from sklearn.feature_selection import mutual_info_regression\n",
    "import statsmodels.api as sm"
   ]
  },
  {
   "cell_type": "code",
   "execution_count": 28,
   "id": "a258050b",
   "metadata": {},
   "outputs": [],
   "source": [
    "def get_path(dataset_path, t):\n",
    "    files_path = []\n",
    "    if t == 'data_train' or t == 'data_test':\n",
    "        dir_data = os.getcwd() + '/' + dataset_path + '/' + t\n",
    "        files = os.listdir(dir_data)\n",
    "        files_path += [dir_data + '/' + f for f in files if not str(f).endswith('.gitkeep')]\n",
    "    else:\n",
    "        print('Invalid option')\n",
    "    return files_path"
   ]
  },
  {
   "cell_type": "code",
   "execution_count": 6,
   "id": "1188e68f",
   "metadata": {},
   "outputs": [],
   "source": [
    "def turningpoints(lst):\n",
    "        dx = np.diff(lst)\n",
    "        return np.sum(dx[1:] * dx[:-1] < 0)"
   ]
  },
  {
   "cell_type": "code",
   "execution_count": 7,
   "id": "1cebb01e",
   "metadata": {},
   "outputs": [],
   "source": [
    "def autocorrelation_f1(time_series):\n",
    "    autocorrelation_ts = acf(time_series, nlags=5)\n",
    "    return autocorrelation_ts"
   ]
  },
  {
   "cell_type": "code",
   "execution_count": 8,
   "id": "d2322626",
   "metadata": {},
   "outputs": [],
   "source": [
    "def partial_autocorrelation_f2(time_series):\n",
    "    partial_autocorrelation_ts = pacf(time_series, nlags=5)\n",
    "    return partial_autocorrelation_ts"
   ]
  },
  {
   "cell_type": "code",
   "execution_count": 9,
   "id": "bc48b11f",
   "metadata": {},
   "outputs": [],
   "source": [
    "def variance_f3(time_series):\n",
    "    variance_ts = time_series.std()\n",
    "    return variance_ts"
   ]
  },
  {
   "cell_type": "code",
   "execution_count": 10,
   "id": "df09d489",
   "metadata": {},
   "outputs": [],
   "source": [
    "def skewness_f4(time_series):\n",
    "    variance_ts = time_series.skew()\n",
    "    return variance_ts"
   ]
  },
  {
   "cell_type": "code",
   "execution_count": 11,
   "id": "b611a7d6",
   "metadata": {},
   "outputs": [],
   "source": [
    "def kurtosis_f5(time_series):\n",
    "    kurtosis_ts = time_series.kurtosis()\n",
    "    return kurtosis_ts"
   ]
  },
  {
   "cell_type": "code",
   "execution_count": 12,
   "id": "61758f57",
   "metadata": {},
   "outputs": [],
   "source": [
    "def turning_points_f6(time_series):\n",
    "    turning_points_ts = turningpoints(time_series)\n",
    "    return turning_points_ts"
   ]
  },
  {
   "cell_type": "code",
   "execution_count": 13,
   "id": "761428f8",
   "metadata": {},
   "outputs": [],
   "source": [
    "# The bicorrelations at the first three lags were used\n",
    "def three_point_autocorrelation_f7(time_series, lag_delay=3):\n",
    "    three_point_autocorrelation = acorr = sm.tsa.acf(time_series, nlags = lag_delay)\n",
    "    return three_point_autocorrelation[:-1]"
   ]
  },
  {
   "cell_type": "code",
   "execution_count": 14,
   "id": "0bf7d604",
   "metadata": {},
   "outputs": [],
   "source": [
    "# The mutual information at the first three lags were used\n",
    "def mutual_info_f8(time_series, lag_delay=3):\n",
    "    mutual_info_ts = []\n",
    "    for _ in range(0, lag_delay+1):\n",
    "        lagged_time_series = time_series[:-lag_delay]\n",
    "        time_series_ = time_series[lag_delay:].to_numpy().reshape(-1, 1)\n",
    "        mutual_info = mutual_info_regression(time_series_, lagged_time_series)\n",
    "        mutual_info_ts.append(mutual_info[0])\n",
    "    return mutual_info_ts"
   ]
  },
  {
   "cell_type": "code",
   "execution_count": 15,
   "id": "7054783e",
   "metadata": {},
   "outputs": [],
   "source": [
    "def compute_features(time_series):\n",
    "    time_series_diff = time_series - time_series.shift()\n",
    "    time_series_diff = time_series_diff[1:]\n",
    "    \n",
    "    features = []\n",
    "\n",
    "    # autocorrelation F1\n",
    "    autocorrelation_ts = autocorrelation_f1(time_series_diff)\n",
    "    # partial autocorrelation F2\n",
    "    partial_autocorrelation_ts = partial_autocorrelation_f2(time_series_diff)\n",
    "    # variance F3\n",
    "    variance_ts = variance_f3(time_series_diff)\n",
    "    # skewness F4\n",
    "    skewness_ts = skewness_f4(time_series_diff)\n",
    "    # Kurtoisis F5\n",
    "    kurtoisis_ts = kurtosis_f5(time_series_diff)\n",
    "    # Turning Point F6\n",
    "    turning_point_ts = turning_points_f6(time_series_diff)\n",
    "    # Three point autocorrelation F7\n",
    "    three_point_autocorrelation_ts = three_point_autocorrelation_f7(time_series_diff)\n",
    "    # Mutual info F8\n",
    "    mutual_info_ts = mutual_info_f8(time_series_diff)\n",
    "\n",
    "    for i in autocorrelation_ts:\n",
    "        features.append(i)\n",
    "\n",
    "    for i in partial_autocorrelation_ts:\n",
    "        features.append(i)\n",
    "\n",
    "    features.append(variance_ts)\n",
    "\n",
    "    features.append(skewness_ts)\n",
    "\n",
    "    features.append(kurtoisis_ts)\n",
    "\n",
    "    features.append(turning_point_ts)\n",
    "    \n",
    "    for i in three_point_autocorrelation_ts:\n",
    "        features.append(i)\n",
    "\n",
    "    for i in mutual_info_ts:\n",
    "        features.append(i)\n",
    "    \n",
    "    return features"
   ]
  },
  {
   "cell_type": "code",
   "execution_count": 16,
   "id": "17242850",
   "metadata": {},
   "outputs": [],
   "source": [
    "def compute_distance(vetor1, vetor2, dist):\n",
    "        '''\n",
    "        Compute pearson correlation or cosine distance\n",
    "        :param vetor1: first vector\n",
    "        :param vetor2: second vector\n",
    "        :return: distance\n",
    "        '''  \n",
    "        \n",
    "        if(dist == 'cosine'):\n",
    "            distance = cosine(vetor1, vetor2)\n",
    "        elif(dist == 'pearsonr'):\n",
    "            distance = stats.pearsonr(vetor1, vetor2)[0] # [0] to get distance [1] to get p-value\n",
    "        else:\n",
    "            print('Invalid Distance')\n",
    "        \n",
    "        return distance"
   ]
  },
  {
   "cell_type": "code",
   "execution_count": 17,
   "id": "80db7307",
   "metadata": {},
   "outputs": [],
   "source": [
    "def calculate_m0_std0(time_series, dist):\n",
    "    final = len(time_series)\n",
    "    qtd = 3\n",
    "    \n",
    "    vector_0 = time_series[:final-qtd]\n",
    "    vector_features_0 = compute_features(vector_0)\n",
    "    \n",
    "    \n",
    "    distance_vector = []\n",
    "    for i in range(1, qtd):\n",
    "        \n",
    "        \n",
    "        vector_1 = ts_train[i:final-qtd+i]\n",
    "        \n",
    "        vector_features = compute_features(vector_1)\n",
    "\n",
    "        if(dist == 'cosine'):\n",
    "            distance = compute_distance(vector_features_0, vector_features, 'cosine')\n",
    "\n",
    "    \n",
    "        if(dist == 'pearsonr'):\n",
    "            distance = compute_distance(vector_features_0, vector_features, 'pearsonr')\n",
    "        \n",
    "        distance_vector.append(distance)\n",
    "\n",
    "    \n",
    "    return np.mean(distance_vector), np.std(distance_vector)"
   ]
  },
  {
   "cell_type": "code",
   "execution_count": 18,
   "id": "8ff3a8eb",
   "metadata": {},
   "outputs": [],
   "source": [
    "def update_ewma(value, t, Lambda, m0, std0):\n",
    "    '''\n",
    "    method to update ewma with current error\n",
    "    :param error: double with the error to be checked # Luis??\n",
    "    :param t: instant of time\n",
    "    '''\n",
    "    \n",
    "    if(Lambda <= 0.1 and Lambda>=0.3):\n",
    "        print('Please choose a value for Lambda between [0.1, 0.3]')\n",
    "    else:\n",
    "        change = False\n",
    "\n",
    "        zt = 0\n",
    "        avg_zero = m0\n",
    "        std_zero = std0\n",
    "\n",
    "        # Calculating the moving average\n",
    "        if(t == 1):\n",
    "            zt = (1-Lambda) * avg_zero + Lambda * value\n",
    "        elif(change == True):\n",
    "            change = False\n",
    "            zt = (1-Lambda) * avg_zero + Lambda * value\n",
    "        else:\n",
    "            zt = (1-Lambda) * zt + Lambda * value\n",
    "\n",
    "\n",
    "        # calculating the deviation of the moving average\n",
    "        part1 = (Lambda/(2-Lambda))\n",
    "        part2 = (1-Lambda)\n",
    "        part3 = (2*t)\n",
    "        part4 = (1 - (part2**part3))\n",
    "        part5 = (part1 * part4 * std_zero)\n",
    "        deviation_zero = np.sqrt(part5)\n",
    "\n",
    "        return zt, std_zero"
   ]
  },
  {
   "cell_type": "code",
   "execution_count": 19,
   "id": "484ea4f8",
   "metadata": {},
   "outputs": [],
   "source": [
    "def monitor(zt, deviation_zero, control_param, warning_param):\n",
    "        '''\n",
    "        Method to check the FEED detection condition\n",
    "        '''\n",
    "        avg_zero = 0\n",
    "\n",
    "        deviation_zero = 0\n",
    "        change_detection = 0 # No Change\n",
    "        #consulting the rules\n",
    "        if(zt > avg_zero + (control_param * deviation_zero)):\n",
    "            change = True\n",
    "            change_detection = 1 # Concept Drift\n",
    "\n",
    "        elif(zt > avg_zero + (warning_param * deviation_zero)):\n",
    "\n",
    "            change_detection = 2 # Warning\n",
    "            return change_detection\n",
    "        \n",
    "        return change_detection"
   ]
  },
  {
   "cell_type": "code",
   "execution_count": null,
   "id": "1ed47ef0",
   "metadata": {},
   "outputs": [],
   "source": []
  },
  {
   "cell_type": "code",
   "execution_count": null,
   "id": "31af7e00",
   "metadata": {},
   "outputs": [],
   "source": []
  },
  {
   "cell_type": "code",
   "execution_count": 29,
   "id": "c99da956",
   "metadata": {},
   "outputs": [],
   "source": [
    "data_train_path = '../../datasets/data_yahoo/'\n",
    "data_test_path = '../../datasets/data_yahoo/'"
   ]
  },
  {
   "cell_type": "code",
   "execution_count": 30,
   "id": "bd9e2f5a",
   "metadata": {},
   "outputs": [],
   "source": [
    "files_train = get_path(data_train_path, 'data_train')\n",
    "files_test = get_path(data_train_path, 'data_test')"
   ]
  },
  {
   "cell_type": "code",
   "execution_count": null,
   "id": "09608326",
   "metadata": {},
   "outputs": [],
   "source": []
  },
  {
   "cell_type": "code",
   "execution_count": 31,
   "id": "809e9dad",
   "metadata": {},
   "outputs": [
    {
     "ename": "IndexError",
     "evalue": "list index out of range",
     "output_type": "error",
     "traceback": [
      "\u001b[1;31m---------------------------------------------------------------------------\u001b[0m",
      "\u001b[1;31mIndexError\u001b[0m                                Traceback (most recent call last)",
      "\u001b[1;32m~\\AppData\\Local\\Temp/ipykernel_13216/231088506.py\u001b[0m in \u001b[0;36m<module>\u001b[1;34m\u001b[0m\n\u001b[1;32m----> 1\u001b[1;33m \u001b[0mdata_train\u001b[0m \u001b[1;33m=\u001b[0m \u001b[0mpd\u001b[0m\u001b[1;33m.\u001b[0m\u001b[0mread_csv\u001b[0m\u001b[1;33m(\u001b[0m\u001b[0mfiles_train\u001b[0m\u001b[1;33m[\u001b[0m\u001b[1;36m20\u001b[0m\u001b[1;33m]\u001b[0m\u001b[1;33m)\u001b[0m\u001b[1;33m\u001b[0m\u001b[0m\n\u001b[0m\u001b[0;32m      2\u001b[0m \u001b[0mdata_train\u001b[0m \u001b[1;33m=\u001b[0m \u001b[0mdata_train\u001b[0m\u001b[1;33m.\u001b[0m\u001b[0mloc\u001b[0m\u001b[1;33m[\u001b[0m\u001b[1;33m:\u001b[0m\u001b[1;33m,\u001b[0m \u001b[1;33m~\u001b[0m\u001b[0mdata_train\u001b[0m\u001b[1;33m.\u001b[0m\u001b[0mcolumns\u001b[0m\u001b[1;33m.\u001b[0m\u001b[0mstr\u001b[0m\u001b[1;33m.\u001b[0m\u001b[0mmatch\u001b[0m\u001b[1;33m(\u001b[0m\u001b[1;34m'Unnamed'\u001b[0m\u001b[1;33m)\u001b[0m\u001b[1;33m]\u001b[0m\u001b[1;33m\u001b[0m\u001b[0m\n\u001b[0;32m      3\u001b[0m \u001b[0mdata_train\u001b[0m\u001b[1;33m\u001b[0m\u001b[0m\n",
      "\u001b[1;31mIndexError\u001b[0m: list index out of range"
     ]
    }
   ],
   "source": [
    "data_train = pd.read_csv(files_train[20])\n",
    "data_train = data_train.loc[:, ~data_train.columns.str.match('Unnamed')]\n",
    "data_train"
   ]
  },
  {
   "cell_type": "code",
   "execution_count": 18,
   "id": "86893e8d",
   "metadata": {},
   "outputs": [
    {
     "data": {
      "text/html": [
       "<div>\n",
       "<style scoped>\n",
       "    .dataframe tbody tr th:only-of-type {\n",
       "        vertical-align: middle;\n",
       "    }\n",
       "\n",
       "    .dataframe tbody tr th {\n",
       "        vertical-align: top;\n",
       "    }\n",
       "\n",
       "    .dataframe thead th {\n",
       "        text-align: right;\n",
       "    }\n",
       "</style>\n",
       "<table border=\"1\" class=\"dataframe\">\n",
       "  <thead>\n",
       "    <tr style=\"text-align: right;\">\n",
       "      <th></th>\n",
       "      <th>timestamp</th>\n",
       "      <th>value</th>\n",
       "      <th>is_anomaly</th>\n",
       "    </tr>\n",
       "  </thead>\n",
       "  <tbody>\n",
       "    <tr>\n",
       "      <th>0</th>\n",
       "      <td>720</td>\n",
       "      <td>121</td>\n",
       "      <td>0</td>\n",
       "    </tr>\n",
       "    <tr>\n",
       "      <th>1</th>\n",
       "      <td>721</td>\n",
       "      <td>74</td>\n",
       "      <td>0</td>\n",
       "    </tr>\n",
       "    <tr>\n",
       "      <th>2</th>\n",
       "      <td>722</td>\n",
       "      <td>78</td>\n",
       "      <td>0</td>\n",
       "    </tr>\n",
       "    <tr>\n",
       "      <th>3</th>\n",
       "      <td>723</td>\n",
       "      <td>63</td>\n",
       "      <td>0</td>\n",
       "    </tr>\n",
       "    <tr>\n",
       "      <th>4</th>\n",
       "      <td>724</td>\n",
       "      <td>71</td>\n",
       "      <td>0</td>\n",
       "    </tr>\n",
       "    <tr>\n",
       "      <th>...</th>\n",
       "      <td>...</td>\n",
       "      <td>...</td>\n",
       "      <td>...</td>\n",
       "    </tr>\n",
       "    <tr>\n",
       "      <th>715</th>\n",
       "      <td>1435</td>\n",
       "      <td>256</td>\n",
       "      <td>1</td>\n",
       "    </tr>\n",
       "    <tr>\n",
       "      <th>716</th>\n",
       "      <td>1436</td>\n",
       "      <td>275</td>\n",
       "      <td>1</td>\n",
       "    </tr>\n",
       "    <tr>\n",
       "      <th>717</th>\n",
       "      <td>1437</td>\n",
       "      <td>272</td>\n",
       "      <td>1</td>\n",
       "    </tr>\n",
       "    <tr>\n",
       "      <th>718</th>\n",
       "      <td>1438</td>\n",
       "      <td>421</td>\n",
       "      <td>1</td>\n",
       "    </tr>\n",
       "    <tr>\n",
       "      <th>719</th>\n",
       "      <td>1439</td>\n",
       "      <td>379</td>\n",
       "      <td>1</td>\n",
       "    </tr>\n",
       "  </tbody>\n",
       "</table>\n",
       "<p>720 rows × 3 columns</p>\n",
       "</div>"
      ],
      "text/plain": [
       "     timestamp  value  is_anomaly\n",
       "0          720    121           0\n",
       "1          721     74           0\n",
       "2          722     78           0\n",
       "3          723     63           0\n",
       "4          724     71           0\n",
       "..         ...    ...         ...\n",
       "715       1435    256           1\n",
       "716       1436    275           1\n",
       "717       1437    272           1\n",
       "718       1438    421           1\n",
       "719       1439    379           1\n",
       "\n",
       "[720 rows x 3 columns]"
      ]
     },
     "execution_count": 18,
     "metadata": {},
     "output_type": "execute_result"
    }
   ],
   "source": [
    "data_test = pd.read_csv(files_test[20])\n",
    "data_test = data_test.loc[:, ~data_test.columns.str.match('Unnamed')]\n",
    "data_test"
   ]
  },
  {
   "cell_type": "code",
   "execution_count": 29,
   "id": "3c19fe89",
   "metadata": {},
   "outputs": [],
   "source": [
    "ts_train = data_train.value\n",
    "ts_test = data_test.value"
   ]
  },
  {
   "attachments": {},
   "cell_type": "markdown",
   "id": "939445ee",
   "metadata": {},
   "source": [
    "# FEDD"
   ]
  },
  {
   "attachments": {},
   "cell_type": "markdown",
   "id": "7e0da44d",
   "metadata": {},
   "source": [
    "## Computing Features"
   ]
  },
  {
   "attachments": {},
   "cell_type": "markdown",
   "id": "a37738df",
   "metadata": {},
   "source": [
    "#### Autocorrelation"
   ]
  },
  {
   "attachments": {},
   "cell_type": "markdown",
   "id": "d259dec6",
   "metadata": {},
   "source": [
    "### Features Train"
   ]
  },
  {
   "cell_type": "code",
   "execution_count": 46,
   "id": "ec64d966",
   "metadata": {},
   "outputs": [
    {
     "data": {
      "text/plain": [
       "[1.0,\n",
       " 0.27162473363871364,\n",
       " 0.20206110284203202,\n",
       " 0.11094938675977972,\n",
       " -0.006305672797858372,\n",
       " 0.04928468726393885,\n",
       " 1.0,\n",
       " 0.2718109054917901,\n",
       " 0.1387047815366957,\n",
       " 0.028742736348999997,\n",
       " -0.0731902695367786,\n",
       " 0.05078818723600917,\n",
       " 0.2971387554795686,\n",
       " 4.348503064678562,\n",
       " 128.8397159007936,\n",
       " 686,\n",
       " 1.0,\n",
       " 0.27162473363871364,\n",
       " 0.20206110284203202,\n",
       " 0.23484200153576262,\n",
       " 0.23413241448968192,\n",
       " 0.23451705656085142,\n",
       " 0.23446171981579056]"
      ]
     },
     "execution_count": 46,
     "metadata": {},
     "output_type": "execute_result"
    }
   ],
   "source": [
    "features_train = compute_features(ts_train)\n",
    "features_train"
   ]
  },
  {
   "attachments": {},
   "cell_type": "markdown",
   "id": "8de48af4",
   "metadata": {},
   "source": [
    "### Features Test"
   ]
  },
  {
   "cell_type": "code",
   "execution_count": 47,
   "id": "e92aa38d",
   "metadata": {},
   "outputs": [
    {
     "ename": "NameError",
     "evalue": "name 'ts_test' is not defined",
     "output_type": "error",
     "traceback": [
      "\u001b[1;31m---------------------------------------------------------------------------\u001b[0m",
      "\u001b[1;31mNameError\u001b[0m                                 Traceback (most recent call last)",
      "\u001b[1;32m~\\AppData\\Local\\Temp/ipykernel_17740/2081220653.py\u001b[0m in \u001b[0;36m<module>\u001b[1;34m\u001b[0m\n\u001b[1;32m----> 1\u001b[1;33m \u001b[0mlen\u001b[0m\u001b[1;33m(\u001b[0m\u001b[0mts_test\u001b[0m\u001b[1;33m)\u001b[0m\u001b[1;33m\u001b[0m\u001b[0m\n\u001b[0m",
      "\u001b[1;31mNameError\u001b[0m: name 'ts_test' is not defined"
     ]
    }
   ],
   "source": [
    "len(ts_test)"
   ]
  },
  {
   "cell_type": "code",
   "execution_count": 48,
   "id": "ab8e6f11",
   "metadata": {},
   "outputs": [],
   "source": [
    "window = 168"
   ]
  },
  {
   "cell_type": "code",
   "execution_count": 49,
   "id": "491cc1d8",
   "metadata": {},
   "outputs": [
    {
     "ename": "NameError",
     "evalue": "name 'ts_test' is not defined",
     "output_type": "error",
     "traceback": [
      "\u001b[1;31m---------------------------------------------------------------------------\u001b[0m",
      "\u001b[1;31mNameError\u001b[0m                                 Traceback (most recent call last)",
      "\u001b[1;32m~\\AppData\\Local\\Temp/ipykernel_17740/792398530.py\u001b[0m in \u001b[0;36m<module>\u001b[1;34m\u001b[0m\n\u001b[0;32m      1\u001b[0m \u001b[0mfeatures_test_batches\u001b[0m \u001b[1;33m=\u001b[0m \u001b[1;33m[\u001b[0m\u001b[1;33m]\u001b[0m\u001b[1;33m\u001b[0m\u001b[0m\n\u001b[1;32m----> 2\u001b[1;33m \u001b[1;32mfor\u001b[0m \u001b[0mi\u001b[0m \u001b[1;32min\u001b[0m \u001b[0mtqdm\u001b[0m\u001b[1;33m(\u001b[0m\u001b[0mrange\u001b[0m\u001b[1;33m(\u001b[0m\u001b[1;36m0\u001b[0m\u001b[1;33m,\u001b[0m \u001b[1;33m(\u001b[0m\u001b[0mmath\u001b[0m\u001b[1;33m.\u001b[0m\u001b[0mfloor\u001b[0m\u001b[1;33m(\u001b[0m\u001b[0mlen\u001b[0m\u001b[1;33m(\u001b[0m\u001b[0mts_test\u001b[0m\u001b[1;33m)\u001b[0m\u001b[1;33m/\u001b[0m\u001b[0mwindow\u001b[0m\u001b[1;33m)\u001b[0m\u001b[1;33m+\u001b[0m\u001b[1;36m1\u001b[0m\u001b[1;33m)\u001b[0m\u001b[1;33m)\u001b[0m\u001b[1;33m)\u001b[0m\u001b[1;33m:\u001b[0m\u001b[1;33m\u001b[0m\u001b[0m\n\u001b[0m\u001b[0;32m      3\u001b[0m     \u001b[1;32mif\u001b[0m\u001b[1;33m(\u001b[0m\u001b[0mi\u001b[0m \u001b[1;33m==\u001b[0m \u001b[1;33m(\u001b[0m\u001b[0mround\u001b[0m\u001b[1;33m(\u001b[0m\u001b[0mlen\u001b[0m\u001b[1;33m(\u001b[0m\u001b[0mts_test\u001b[0m\u001b[1;33m)\u001b[0m\u001b[1;33m/\u001b[0m\u001b[0mwindow\u001b[0m\u001b[1;33m)\u001b[0m\u001b[1;33m)\u001b[0m\u001b[1;33m)\u001b[0m\u001b[1;33m:\u001b[0m\u001b[1;33m\u001b[0m\u001b[0m\n\u001b[0;32m      4\u001b[0m         \u001b[0mts_test_current\u001b[0m \u001b[1;33m=\u001b[0m \u001b[0mts_test\u001b[0m\u001b[1;33m[\u001b[0m\u001b[1;33m(\u001b[0m\u001b[0mi\u001b[0m\u001b[1;33m)\u001b[0m\u001b[1;33m*\u001b[0m\u001b[0mwindow\u001b[0m\u001b[1;33m:\u001b[0m\u001b[1;33m]\u001b[0m\u001b[1;33m\u001b[0m\u001b[0m\n\u001b[0;32m      5\u001b[0m     \u001b[1;32melse\u001b[0m\u001b[1;33m:\u001b[0m\u001b[1;33m\u001b[0m\u001b[0m\n",
      "\u001b[1;31mNameError\u001b[0m: name 'ts_test' is not defined"
     ]
    }
   ],
   "source": [
    "features_test_batches = []\n",
    "for i in tqdm(range(0, (math.floor(len(ts_test)/window)+1))):\n",
    "    if(i == (round(len(ts_test)/window))):\n",
    "        ts_test_current = ts_test[(i)*window:]\n",
    "    else:\n",
    "        ts_test_current = ts_test[(i*window):((i+1)*window)]\n",
    "    \n",
    "    features_test_batches.append(compute_features(ts_test_current))\n",
    "features_test_batches"
   ]
  },
  {
   "cell_type": "code",
   "execution_count": null,
   "id": "da9efe1a",
   "metadata": {},
   "outputs": [],
   "source": []
  },
  {
   "attachments": {},
   "cell_type": "markdown",
   "id": "48fe8445",
   "metadata": {},
   "source": [
    "## Compute Distance"
   ]
  },
  {
   "cell_type": "code",
   "execution_count": 50,
   "id": "2581ad2d",
   "metadata": {},
   "outputs": [],
   "source": [
    "distances_cosine = []\n",
    "distances_pearson = []\n",
    "\n",
    "for i in range(0, len(features_test_batches)):\n",
    "    distances_cosine.append(compute_distance(features_train, features_test_batches[i], 'cosine'))\n",
    "    distances_pearson.append(compute_distance(features_train, features_test_batches[i], 'pearsonr'))"
   ]
  },
  {
   "cell_type": "code",
   "execution_count": 51,
   "id": "8543a0f9",
   "metadata": {},
   "outputs": [
    {
     "data": {
      "text/plain": [
       "[]"
      ]
     },
     "execution_count": 51,
     "metadata": {},
     "output_type": "execute_result"
    }
   ],
   "source": [
    "distances_cosine"
   ]
  },
  {
   "cell_type": "code",
   "execution_count": 52,
   "id": "0226c6ef",
   "metadata": {},
   "outputs": [
    {
     "data": {
      "text/plain": [
       "[]"
      ]
     },
     "execution_count": 52,
     "metadata": {},
     "output_type": "execute_result"
    }
   ],
   "source": [
    "distances_pearson"
   ]
  },
  {
   "attachments": {},
   "cell_type": "markdown",
   "id": "d4e80f1c",
   "metadata": {},
   "source": [
    "## Change Detection"
   ]
  },
  {
   "cell_type": "code",
   "execution_count": 54,
   "id": "86bcbf79",
   "metadata": {},
   "outputs": [],
   "source": [
    "control = 0.5\n",
    "warning = 0.05\n",
    "Lambda = 0.2\n",
    "m0, std0 = calculate_m0_std0(ts_train, 'cosine')\n",
    "\n",
    "\n",
    "for i in range(0, len(distances_pearson)):\n",
    "    ztt, dev_zero = update_ewma(distances_pearson[i], i, Lambda, m0, std0)\n",
    "\n",
    "    print(ztt)\n",
    "    print('deviation', dev_zero)\n",
    "    print(monitor(ztt, dev_zero, control, warning))"
   ]
  },
  {
   "cell_type": "code",
   "execution_count": null,
   "id": "628793d0",
   "metadata": {},
   "outputs": [],
   "source": []
  },
  {
   "cell_type": "code",
   "execution_count": null,
   "id": "d3ad5c61",
   "metadata": {},
   "outputs": [],
   "source": []
  },
  {
   "cell_type": "code",
   "execution_count": null,
   "id": "83b8b8d8",
   "metadata": {},
   "outputs": [],
   "source": []
  },
  {
   "cell_type": "code",
   "execution_count": null,
   "id": "bd0308fa",
   "metadata": {},
   "outputs": [],
   "source": []
  },
  {
   "cell_type": "code",
   "execution_count": null,
   "id": "c5b43543",
   "metadata": {},
   "outputs": [],
   "source": []
  }
 ],
 "metadata": {
  "kernelspec": {
   "display_name": "Python 3 (ipykernel)",
   "language": "python",
   "name": "python3"
  },
  "language_info": {
   "codemirror_mode": {
    "name": "ipython",
    "version": 3
   },
   "file_extension": ".py",
   "mimetype": "text/x-python",
   "name": "python",
   "nbconvert_exporter": "python",
   "pygments_lexer": "ipython3",
   "version": "3.7.0"
  }
 },
 "nbformat": 4,
 "nbformat_minor": 5
}
