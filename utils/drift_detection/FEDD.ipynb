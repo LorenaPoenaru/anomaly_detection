{
 "cells": [
  {
   "cell_type": "code",
   "execution_count": 1,
   "id": "96f65239",
   "metadata": {},
   "outputs": [],
   "source": [
    "import pandas as pd\n",
    "import os\n",
    "from statsmodels.tsa.stattools import acf, pacf\n",
    "import numpy as np\n",
    "from scipy.spatial.distance import cosine\n",
    "from scipy import stats\n",
    "from tqdm import tqdm\n",
    "import math"
   ]
  },
  {
   "cell_type": "code",
   "execution_count": 2,
   "id": "a258050b",
   "metadata": {},
   "outputs": [],
   "source": [
    "def get_path(dataset_path, t):\n",
    "    files_path = []\n",
    "    if t == 'train' or t == 'test':\n",
    "        dir_data = os.getcwd() + '/' + dataset_path + '/' + t\n",
    "        files = os.listdir(dir_data)\n",
    "        files_path += [dir_data + '/' + _ for _ in files]\n",
    "    else:\n",
    "        print('Invalid option')\n",
    "    return files_path"
   ]
  },
  {
   "cell_type": "code",
   "execution_count": 3,
   "id": "1188e68f",
   "metadata": {},
   "outputs": [],
   "source": [
    "def turningpoints(lst):\n",
    "        dx = np.diff(lst)\n",
    "        return np.sum(dx[1:] * dx[:-1] < 0)"
   ]
  },
  {
   "cell_type": "code",
   "execution_count": 4,
   "id": "1cebb01e",
   "metadata": {},
   "outputs": [],
   "source": [
    "def autocorrelation_f1(time_series):\n",
    "    autocorrelation_ts = acf(time_series, nlags=5)\n",
    "    return autocorrelation_ts"
   ]
  },
  {
   "cell_type": "code",
   "execution_count": 5,
   "id": "d2322626",
   "metadata": {},
   "outputs": [],
   "source": [
    "def partial_autocorrelation_f2(time_series):\n",
    "    partial_autocorrelation_ts = pacf(time_series, nlags=5)\n",
    "    return partial_autocorrelation_ts"
   ]
  },
  {
   "cell_type": "code",
   "execution_count": 6,
   "id": "bc48b11f",
   "metadata": {},
   "outputs": [],
   "source": [
    "def variance_f3(time_series):\n",
    "    variance_ts = time_series.std()\n",
    "    return variance_ts"
   ]
  },
  {
   "cell_type": "code",
   "execution_count": 7,
   "id": "df09d489",
   "metadata": {},
   "outputs": [],
   "source": [
    "def skewness_f4(time_series):\n",
    "    variance_ts = time_series.skew()\n",
    "    return variance_ts"
   ]
  },
  {
   "cell_type": "code",
   "execution_count": 8,
   "id": "b611a7d6",
   "metadata": {},
   "outputs": [],
   "source": [
    "def kurtosis_f5(time_series):\n",
    "    kurtosis_ts = time_series.kurtosis()\n",
    "    return kurtosis_ts"
   ]
  },
  {
   "cell_type": "code",
   "execution_count": 9,
   "id": "61758f57",
   "metadata": {},
   "outputs": [],
   "source": [
    "def turning_points_f6(time_series):\n",
    "    turning_points_ts = turningpoints(time_series)\n",
    "    return turning_points_ts"
   ]
  },
  {
   "cell_type": "code",
   "execution_count": 10,
   "id": "7054783e",
   "metadata": {},
   "outputs": [],
   "source": [
    "def compute_features(time_series):\n",
    "    time_series_diff = time_series - time_series.shift()\n",
    "    time_series_diff = time_series_diff[1:]\n",
    "    \n",
    "    features = []\n",
    "\n",
    "    # autocorrelation F1\n",
    "    autocorrelation_ts = autocorrelation_f1(time_series_diff)\n",
    "    # partial autocorrelation F2\n",
    "    partial_autocorrelation_ts = partial_autocorrelation_f2(time_series_diff)\n",
    "    # variance F3\n",
    "    variance_ts = variance_f3(time_series_diff)\n",
    "    # skewness F4\n",
    "    skewness_ts = skewness_f4(time_series_diff)\n",
    "    # Kurtoisis F5\n",
    "    kurtoisis_ts = kurtosis_f5(time_series_diff)\n",
    "    # Turning Point F6\n",
    "    turning_point_ts = turning_points_f6(time_series_diff)\n",
    "\n",
    "    for i in autocorrelation_ts:\n",
    "        features.append(i)\n",
    "\n",
    "    for i in partial_autocorrelation_ts:\n",
    "        features.append(i)\n",
    "\n",
    "    features.append(variance_ts)\n",
    "\n",
    "    features.append(skewness_ts)\n",
    "\n",
    "    features.append(kurtoisis_ts)\n",
    "\n",
    "    features.append(turning_point_ts)\n",
    "    \n",
    "    return features"
   ]
  },
  {
   "cell_type": "code",
   "execution_count": 11,
   "id": "17242850",
   "metadata": {},
   "outputs": [],
   "source": [
    "def compute_distance(vetor1, vetor2, dist):\n",
    "        '''\n",
    "        Compute pearson correlation or cosine distance\n",
    "        :param vetor1: first vector\n",
    "        :param vetor2: second vector\n",
    "        :return: distance\n",
    "        '''  \n",
    "        \n",
    "        if(dist == 'cosine'):\n",
    "            distance = cosine(vetor1, vetor2)\n",
    "        elif(dist == 'pearsonr'):\n",
    "            distance = stats.pearsonr(vetor1, vetor2)[0] # [0] to get distance [1] to get p-value\n",
    "        else:\n",
    "            print('Invalid Distance')\n",
    "        \n",
    "        return distance"
   ]
  },
  {
   "cell_type": "code",
   "execution_count": 12,
   "id": "80db7307",
   "metadata": {},
   "outputs": [],
   "source": [
    "def calculate_m0_std0(time_series, dist):\n",
    "    final = len(time_series)\n",
    "    qtd = 3\n",
    "    \n",
    "    vector_0 = time_series[:final-qtd]\n",
    "    vector_features_0 = compute_features(vector_0)\n",
    "    \n",
    "    \n",
    "    distance_vector = []\n",
    "    for i in range(1, qtd):\n",
    "        \n",
    "        \n",
    "        vector_1 = ts_train[i:final-qtd+i]\n",
    "        \n",
    "        vector_features = compute_features(vector_1)\n",
    "\n",
    "        if(dist == 'cosine'):\n",
    "            distance = compute_distance(vector_features_0, vector_features, 'cosine')\n",
    "\n",
    "    \n",
    "        if(dist == 'pearsonr'):\n",
    "            distance = compute_distance(vector_features_0, vector_features, 'pearsonr')\n",
    "        \n",
    "        distance_vector.append(distance)\n",
    "\n",
    "    \n",
    "    return np.mean(distance_vector), np.std(distance_vector)"
   ]
  },
  {
   "cell_type": "code",
   "execution_count": 13,
   "id": "8ff3a8eb",
   "metadata": {},
   "outputs": [],
   "source": [
    "def update_ewma(value, t, Lambda, m0, std0):\n",
    "    '''\n",
    "    method to update ewma with current error\n",
    "    :param error: double with the error to be checked # Luis??\n",
    "    :param t: instant of time\n",
    "    '''\n",
    "    \n",
    "    if(Lambda <= 0.1 and Lambda>=0.3):\n",
    "        print('Please choose a value for Lambda between [0.1, 0.3]')\n",
    "    else:\n",
    "        change = False\n",
    "\n",
    "        zt = 0\n",
    "        avg_zero = m0\n",
    "        std_zero = std0\n",
    "\n",
    "        # Calculating the moving average\n",
    "        if(t == 1):\n",
    "            zt = (1-Lambda) * avg_zero + Lambda * value\n",
    "        elif(change == True):\n",
    "            change = False\n",
    "            zt = (1-Lambda) * avg_zero + Lambda * value\n",
    "        else:\n",
    "            zt = (1-Lambda) * zt + Lambda * value\n",
    "\n",
    "\n",
    "        # calculating the deviation of the moving average\n",
    "        part1 = (Lambda/(2-Lambda))\n",
    "        part2 = (1-Lambda)\n",
    "        part3 = (2*t)\n",
    "        part4 = (1 - (part2**part3))\n",
    "        part5 = (part1 * part4 * std_zero)\n",
    "        deviation_zero = np.sqrt(part5)\n",
    "\n",
    "        return zt, std_zero"
   ]
  },
  {
   "cell_type": "code",
   "execution_count": 14,
   "id": "484ea4f8",
   "metadata": {},
   "outputs": [],
   "source": [
    "def monitor(zt, deviation_zero, control_param, warning_param):\n",
    "        '''\n",
    "        Method to check the FEED detection condition\n",
    "        '''\n",
    "        avg_zero = 0\n",
    "\n",
    "        deviation_zero = 0\n",
    "        change_detection = 0 # No Change\n",
    "        #consulting the rules\n",
    "        if(zt > avg_zero + (control_param * deviation_zero)):\n",
    "            change = True\n",
    "            change_detection = 1 # Concept Drift\n",
    "\n",
    "        elif(zt > avg_zero + (warning_param * deviation_zero)):\n",
    "\n",
    "            change_detection = 2 # Warning\n",
    "            return change_detection\n",
    "        \n",
    "        return change_detection"
   ]
  },
  {
   "cell_type": "code",
   "execution_count": null,
   "id": "1ed47ef0",
   "metadata": {},
   "outputs": [],
   "source": []
  },
  {
   "cell_type": "code",
   "execution_count": null,
   "id": "31af7e00",
   "metadata": {},
   "outputs": [],
   "source": []
  },
  {
   "cell_type": "code",
   "execution_count": 15,
   "id": "c99da956",
   "metadata": {},
   "outputs": [],
   "source": [
    "data_train_path = '../../../Documents/phd_related/srcnn/anomalydetector-master/data_yahoo/'\n",
    "data_test_path = '../../../Documents/phd_related/srcnn/anomalydetector-master/data_yahoo'"
   ]
  },
  {
   "cell_type": "code",
   "execution_count": 16,
   "id": "bd9e2f5a",
   "metadata": {},
   "outputs": [],
   "source": [
    "files_train = get_path(data_train_path, 'train')\n",
    "files_test = get_path(data_train_path, 'test')"
   ]
  },
  {
   "cell_type": "code",
   "execution_count": null,
   "id": "09608326",
   "metadata": {},
   "outputs": [],
   "source": []
  },
  {
   "cell_type": "code",
   "execution_count": 17,
   "id": "809e9dad",
   "metadata": {},
   "outputs": [
    {
     "data": {
      "text/html": [
       "<div>\n",
       "<style scoped>\n",
       "    .dataframe tbody tr th:only-of-type {\n",
       "        vertical-align: middle;\n",
       "    }\n",
       "\n",
       "    .dataframe tbody tr th {\n",
       "        vertical-align: top;\n",
       "    }\n",
       "\n",
       "    .dataframe thead th {\n",
       "        text-align: right;\n",
       "    }\n",
       "</style>\n",
       "<table border=\"1\" class=\"dataframe\">\n",
       "  <thead>\n",
       "    <tr style=\"text-align: right;\">\n",
       "      <th></th>\n",
       "      <th>timestamp</th>\n",
       "      <th>value</th>\n",
       "      <th>is_anomaly</th>\n",
       "    </tr>\n",
       "  </thead>\n",
       "  <tbody>\n",
       "    <tr>\n",
       "      <th>0</th>\n",
       "      <td>1</td>\n",
       "      <td>159</td>\n",
       "      <td>0</td>\n",
       "    </tr>\n",
       "    <tr>\n",
       "      <th>1</th>\n",
       "      <td>2</td>\n",
       "      <td>137</td>\n",
       "      <td>0</td>\n",
       "    </tr>\n",
       "    <tr>\n",
       "      <th>2</th>\n",
       "      <td>3</td>\n",
       "      <td>141</td>\n",
       "      <td>0</td>\n",
       "    </tr>\n",
       "    <tr>\n",
       "      <th>3</th>\n",
       "      <td>4</td>\n",
       "      <td>158</td>\n",
       "      <td>0</td>\n",
       "    </tr>\n",
       "    <tr>\n",
       "      <th>4</th>\n",
       "      <td>5</td>\n",
       "      <td>143</td>\n",
       "      <td>0</td>\n",
       "    </tr>\n",
       "    <tr>\n",
       "      <th>...</th>\n",
       "      <td>...</td>\n",
       "      <td>...</td>\n",
       "      <td>...</td>\n",
       "    </tr>\n",
       "    <tr>\n",
       "      <th>714</th>\n",
       "      <td>715</td>\n",
       "      <td>113</td>\n",
       "      <td>0</td>\n",
       "    </tr>\n",
       "    <tr>\n",
       "      <th>715</th>\n",
       "      <td>716</td>\n",
       "      <td>105</td>\n",
       "      <td>0</td>\n",
       "    </tr>\n",
       "    <tr>\n",
       "      <th>716</th>\n",
       "      <td>717</td>\n",
       "      <td>80</td>\n",
       "      <td>0</td>\n",
       "    </tr>\n",
       "    <tr>\n",
       "      <th>717</th>\n",
       "      <td>718</td>\n",
       "      <td>92</td>\n",
       "      <td>0</td>\n",
       "    </tr>\n",
       "    <tr>\n",
       "      <th>718</th>\n",
       "      <td>719</td>\n",
       "      <td>93</td>\n",
       "      <td>0</td>\n",
       "    </tr>\n",
       "  </tbody>\n",
       "</table>\n",
       "<p>719 rows × 3 columns</p>\n",
       "</div>"
      ],
      "text/plain": [
       "     timestamp  value  is_anomaly\n",
       "0            1    159           0\n",
       "1            2    137           0\n",
       "2            3    141           0\n",
       "3            4    158           0\n",
       "4            5    143           0\n",
       "..         ...    ...         ...\n",
       "714        715    113           0\n",
       "715        716    105           0\n",
       "716        717     80           0\n",
       "717        718     92           0\n",
       "718        719     93           0\n",
       "\n",
       "[719 rows x 3 columns]"
      ]
     },
     "execution_count": 17,
     "metadata": {},
     "output_type": "execute_result"
    }
   ],
   "source": [
    "data_train = pd.read_csv(files_train[20])\n",
    "data_train = data_train.loc[:, ~data_train.columns.str.match('Unnamed')]\n",
    "data_train"
   ]
  },
  {
   "cell_type": "code",
   "execution_count": 18,
   "id": "86893e8d",
   "metadata": {},
   "outputs": [
    {
     "data": {
      "text/html": [
       "<div>\n",
       "<style scoped>\n",
       "    .dataframe tbody tr th:only-of-type {\n",
       "        vertical-align: middle;\n",
       "    }\n",
       "\n",
       "    .dataframe tbody tr th {\n",
       "        vertical-align: top;\n",
       "    }\n",
       "\n",
       "    .dataframe thead th {\n",
       "        text-align: right;\n",
       "    }\n",
       "</style>\n",
       "<table border=\"1\" class=\"dataframe\">\n",
       "  <thead>\n",
       "    <tr style=\"text-align: right;\">\n",
       "      <th></th>\n",
       "      <th>timestamp</th>\n",
       "      <th>value</th>\n",
       "      <th>is_anomaly</th>\n",
       "    </tr>\n",
       "  </thead>\n",
       "  <tbody>\n",
       "    <tr>\n",
       "      <th>0</th>\n",
       "      <td>720</td>\n",
       "      <td>121</td>\n",
       "      <td>0</td>\n",
       "    </tr>\n",
       "    <tr>\n",
       "      <th>1</th>\n",
       "      <td>721</td>\n",
       "      <td>74</td>\n",
       "      <td>0</td>\n",
       "    </tr>\n",
       "    <tr>\n",
       "      <th>2</th>\n",
       "      <td>722</td>\n",
       "      <td>78</td>\n",
       "      <td>0</td>\n",
       "    </tr>\n",
       "    <tr>\n",
       "      <th>3</th>\n",
       "      <td>723</td>\n",
       "      <td>63</td>\n",
       "      <td>0</td>\n",
       "    </tr>\n",
       "    <tr>\n",
       "      <th>4</th>\n",
       "      <td>724</td>\n",
       "      <td>71</td>\n",
       "      <td>0</td>\n",
       "    </tr>\n",
       "    <tr>\n",
       "      <th>...</th>\n",
       "      <td>...</td>\n",
       "      <td>...</td>\n",
       "      <td>...</td>\n",
       "    </tr>\n",
       "    <tr>\n",
       "      <th>715</th>\n",
       "      <td>1435</td>\n",
       "      <td>256</td>\n",
       "      <td>1</td>\n",
       "    </tr>\n",
       "    <tr>\n",
       "      <th>716</th>\n",
       "      <td>1436</td>\n",
       "      <td>275</td>\n",
       "      <td>1</td>\n",
       "    </tr>\n",
       "    <tr>\n",
       "      <th>717</th>\n",
       "      <td>1437</td>\n",
       "      <td>272</td>\n",
       "      <td>1</td>\n",
       "    </tr>\n",
       "    <tr>\n",
       "      <th>718</th>\n",
       "      <td>1438</td>\n",
       "      <td>421</td>\n",
       "      <td>1</td>\n",
       "    </tr>\n",
       "    <tr>\n",
       "      <th>719</th>\n",
       "      <td>1439</td>\n",
       "      <td>379</td>\n",
       "      <td>1</td>\n",
       "    </tr>\n",
       "  </tbody>\n",
       "</table>\n",
       "<p>720 rows × 3 columns</p>\n",
       "</div>"
      ],
      "text/plain": [
       "     timestamp  value  is_anomaly\n",
       "0          720    121           0\n",
       "1          721     74           0\n",
       "2          722     78           0\n",
       "3          723     63           0\n",
       "4          724     71           0\n",
       "..         ...    ...         ...\n",
       "715       1435    256           1\n",
       "716       1436    275           1\n",
       "717       1437    272           1\n",
       "718       1438    421           1\n",
       "719       1439    379           1\n",
       "\n",
       "[720 rows x 3 columns]"
      ]
     },
     "execution_count": 18,
     "metadata": {},
     "output_type": "execute_result"
    }
   ],
   "source": [
    "data_test = pd.read_csv(files_test[20])\n",
    "data_test = data_test.loc[:, ~data_test.columns.str.match('Unnamed')]\n",
    "data_test"
   ]
  },
  {
   "cell_type": "code",
   "execution_count": 19,
   "id": "3c19fe89",
   "metadata": {},
   "outputs": [],
   "source": [
    "ts_train = data_train.value\n",
    "ts_test = data_test.value"
   ]
  },
  {
   "cell_type": "markdown",
   "id": "939445ee",
   "metadata": {},
   "source": [
    "# FEDD"
   ]
  },
  {
   "cell_type": "markdown",
   "id": "7e0da44d",
   "metadata": {},
   "source": [
    "## Computing Features"
   ]
  },
  {
   "cell_type": "markdown",
   "id": "a37738df",
   "metadata": {},
   "source": [
    "#### Autocorrelation"
   ]
  },
  {
   "cell_type": "markdown",
   "id": "d259dec6",
   "metadata": {},
   "source": [
    "### Features Train"
   ]
  },
  {
   "cell_type": "code",
   "execution_count": 20,
   "id": "ec64d966",
   "metadata": {},
   "outputs": [
    {
     "data": {
      "text/plain": [
       "[1.0,\n",
       " -0.4508490512500811,\n",
       " 0.03765380479231339,\n",
       " -0.08003055959817737,\n",
       " 0.018525726228448957,\n",
       " 0.04369271858986207,\n",
       " 1.0,\n",
       " -0.4514778504847395,\n",
       " -0.20859079804665925,\n",
       " -0.2021429783006131,\n",
       " -0.14763412453190297,\n",
       " -0.04149795950525788,\n",
       " 17.279874103141136,\n",
       " 0.43762280140622684,\n",
       " 1.0922280708821335,\n",
       " 526]"
      ]
     },
     "execution_count": 20,
     "metadata": {},
     "output_type": "execute_result"
    }
   ],
   "source": [
    "features_train = compute_features(ts_train)\n",
    "features_train"
   ]
  },
  {
   "cell_type": "markdown",
   "id": "8de48af4",
   "metadata": {},
   "source": [
    "### Features Test"
   ]
  },
  {
   "cell_type": "code",
   "execution_count": 21,
   "id": "e92aa38d",
   "metadata": {},
   "outputs": [
    {
     "data": {
      "text/plain": [
       "720"
      ]
     },
     "execution_count": 21,
     "metadata": {},
     "output_type": "execute_result"
    }
   ],
   "source": [
    "len(ts_test)"
   ]
  },
  {
   "cell_type": "code",
   "execution_count": 22,
   "id": "ab8e6f11",
   "metadata": {},
   "outputs": [],
   "source": [
    "window = 168"
   ]
  },
  {
   "cell_type": "code",
   "execution_count": 23,
   "id": "491cc1d8",
   "metadata": {},
   "outputs": [
    {
     "name": "stderr",
     "output_type": "stream",
     "text": [
      "  0%|          | 0/5 [00:00<?, ?it/s]<ipython-input-10-4e3df2076ed2>:3: FutureWarning: The behavior of `series[i:j]` with an integer-dtype index is deprecated. In a future version, this will be treated as *label-based* indexing, consistent with e.g. `series[i]` lookups. To retain the old behavior, use `series.iloc[i:j]`. To get the future behavior, use `series.loc[i:j]`.\n",
      "  time_series_diff = time_series_diff[1:]\n",
      "100%|██████████| 5/5 [00:00<00:00, 333.76it/s]\n"
     ]
    },
    {
     "data": {
      "text/plain": [
       "[[1.0,\n",
       "  -0.2779431837642242,\n",
       "  -0.16757854807235545,\n",
       "  0.12897466757595005,\n",
       "  -0.028002309492611226,\n",
       "  -0.12331554679736849,\n",
       "  1.0,\n",
       "  -0.2796175402929244,\n",
       "  -0.2688131918842712,\n",
       "  -0.004683682244222068,\n",
       "  -0.03404409082325436,\n",
       "  -0.1322633990651524,\n",
       "  19.428238740885142,\n",
       "  -0.3984718902843558,\n",
       "  1.0007741618327235,\n",
       "  112],\n",
       " [1.0,\n",
       "  -0.36220060984002583,\n",
       "  -0.1793584141393113,\n",
       "  0.10699591002763914,\n",
       "  0.05472391857194537,\n",
       "  -0.08695115196099001,\n",
       "  1.0,\n",
       "  -0.36438254122460434,\n",
       "  -0.3624283894892112,\n",
       "  -0.15031008970547974,\n",
       "  -0.024470552332464906,\n",
       "  -0.06578391440517065,\n",
       "  14.470496941214742,\n",
       "  -0.07334234734900558,\n",
       "  0.14803918515888626,\n",
       "  119],\n",
       " [1.0,\n",
       "  -0.4098171011514344,\n",
       "  -0.028312101635483283,\n",
       "  -0.015070725737696331,\n",
       "  -0.009330431548205217,\n",
       "  0.02080196282941207,\n",
       "  1.0,\n",
       "  -0.4122858788692141,\n",
       "  -0.23931331751367318,\n",
       "  -0.16441653030193196,\n",
       "  -0.1248549269273064,\n",
       "  -0.06371259808729893,\n",
       "  14.6204808055564,\n",
       "  -0.09934134899302789,\n",
       "  0.12257184798491805,\n",
       "  122],\n",
       " [1.0,\n",
       "  -0.301550133240987,\n",
       "  -0.11711356345577852,\n",
       "  -0.06865948000617848,\n",
       "  -0.010174686707572076,\n",
       "  0.14115867649013725,\n",
       "  1.0,\n",
       "  -0.3033667003087038,\n",
       "  -0.23190721153541327,\n",
       "  -0.21482776011685473,\n",
       "  -0.17353911974733113,\n",
       "  0.03557371244665236,\n",
       "  16.75092426330737,\n",
       "  0.1745728686158139,\n",
       "  0.4186282793010152,\n",
       "  118],\n",
       " [1.0,\n",
       "  -0.12952423224750692,\n",
       "  -0.03093584311576025,\n",
       "  0.06714622604239401,\n",
       "  -0.1371384283160803,\n",
       "  0.36015029159992057,\n",
       "  1.0,\n",
       "  -0.1323399764268005,\n",
       "  -0.050712816479845296,\n",
       "  0.0617578556172209,\n",
       "  -0.13658251357015372,\n",
       "  0.3869167846606225,\n",
       "  32.80441296096043,\n",
       "  2.631048587656201,\n",
       "  8.911189634412583,\n",
       "  29]]"
      ]
     },
     "execution_count": 23,
     "metadata": {},
     "output_type": "execute_result"
    }
   ],
   "source": [
    "features_test_batches = []\n",
    "for i in tqdm(range(0, (math.floor(len(ts_test)/window)+1))):\n",
    "    if(i == (round(len(ts_test)/window))):\n",
    "        ts_test_current = ts_test[(i)*window:]\n",
    "    else:\n",
    "        ts_test_current = ts_test[(i*window):((i+1)*window)]\n",
    "    \n",
    "    features_test_batches.append(compute_features(ts_test_current))\n",
    "features_test_batches"
   ]
  },
  {
   "cell_type": "code",
   "execution_count": null,
   "id": "da9efe1a",
   "metadata": {},
   "outputs": [],
   "source": []
  },
  {
   "cell_type": "markdown",
   "id": "48fe8445",
   "metadata": {},
   "source": [
    "## Compute Distance"
   ]
  },
  {
   "cell_type": "code",
   "execution_count": 24,
   "id": "2581ad2d",
   "metadata": {},
   "outputs": [],
   "source": [
    "distances_cosine = []\n",
    "distances_pearson = []\n",
    "\n",
    "for i in range(0, len(features_test_batches)):\n",
    "    distances_cosine.append(compute_distance(features_train, features_test_batches[i], 'cosine'))\n",
    "    distances_pearson.append(compute_distance(features_train, features_test_batches[i], 'pearsonr'))"
   ]
  },
  {
   "cell_type": "code",
   "execution_count": 25,
   "id": "8543a0f9",
   "metadata": {},
   "outputs": [
    {
     "data": {
      "text/plain": [
       "[0.009719647782615803,\n",
       " 0.003937570489907172,\n",
       " 0.003781657247682757,\n",
       " 0.005895059506090372,\n",
       " 0.3282347436260915]"
      ]
     },
     "execution_count": 25,
     "metadata": {},
     "output_type": "execute_result"
    }
   ],
   "source": [
    "distances_cosine"
   ]
  },
  {
   "cell_type": "code",
   "execution_count": 26,
   "id": "0226c6ef",
   "metadata": {},
   "outputs": [
    {
     "data": {
      "text/plain": [
       "[0.9901188356896876,\n",
       " 0.9960009574986615,\n",
       " 0.9961569241115142,\n",
       " 0.9940386727657093,\n",
       " 0.6423225858044017]"
      ]
     },
     "execution_count": 26,
     "metadata": {},
     "output_type": "execute_result"
    }
   ],
   "source": [
    "distances_pearson"
   ]
  },
  {
   "cell_type": "markdown",
   "id": "d4e80f1c",
   "metadata": {},
   "source": [
    "## Change Detection"
   ]
  },
  {
   "cell_type": "code",
   "execution_count": 30,
   "id": "86bcbf79",
   "metadata": {},
   "outputs": [
    {
     "name": "stdout",
     "output_type": "stream",
     "text": [
      "0.19802376713793754\n",
      "deviation 1.4570694650828386e-10\n",
      "1\n",
      "0.19920019170124956\n",
      "deviation 1.4570694650828386e-10\n",
      "1\n",
      "0.19923138482230285\n",
      "deviation 1.4570694650828386e-10\n",
      "1\n",
      "0.19880773455314188\n",
      "deviation 1.4570694650828386e-10\n",
      "1\n",
      "0.12846451716088034\n",
      "deviation 1.4570694650828386e-10\n",
      "1\n"
     ]
    },
    {
     "name": "stderr",
     "output_type": "stream",
     "text": [
      "<ipython-input-10-4e3df2076ed2>:3: FutureWarning: The behavior of `series[i:j]` with an integer-dtype index is deprecated. In a future version, this will be treated as *label-based* indexing, consistent with e.g. `series[i]` lookups. To retain the old behavior, use `series.iloc[i:j]`. To get the future behavior, use `series.loc[i:j]`.\n",
      "  time_series_diff = time_series_diff[1:]\n"
     ]
    }
   ],
   "source": [
    "control = 0.5\n",
    "warning = 0.05\n",
    "Lambda = 0.2\n",
    "m0, std0 = calculate_m0_std0(ts_train, 'cosine')\n",
    "\n",
    "\n",
    "for i in range(0, len(distances_pearson)):\n",
    "    ztt, dev_zero = update_ewma(distances_pearson[i], i, Lambda, m0, std0)\n",
    "\n",
    "    print(ztt)\n",
    "    print('deviation', dev_zero)\n",
    "    print(monitor(ztt, dev_zero, control, warning))"
   ]
  },
  {
   "cell_type": "code",
   "execution_count": null,
   "id": "628793d0",
   "metadata": {},
   "outputs": [],
   "source": []
  },
  {
   "cell_type": "code",
   "execution_count": null,
   "id": "d3ad5c61",
   "metadata": {},
   "outputs": [],
   "source": []
  },
  {
   "cell_type": "code",
   "execution_count": null,
   "id": "83b8b8d8",
   "metadata": {},
   "outputs": [],
   "source": []
  },
  {
   "cell_type": "code",
   "execution_count": null,
   "id": "bd0308fa",
   "metadata": {},
   "outputs": [],
   "source": []
  },
  {
   "cell_type": "code",
   "execution_count": null,
   "id": "c5b43543",
   "metadata": {},
   "outputs": [],
   "source": []
  }
 ],
 "metadata": {
  "kernelspec": {
   "display_name": "Python 3",
   "language": "python",
   "name": "python3"
  },
  "language_info": {
   "codemirror_mode": {
    "name": "ipython",
    "version": 3
   },
   "file_extension": ".py",
   "mimetype": "text/x-python",
   "name": "python",
   "nbconvert_exporter": "python",
   "pygments_lexer": "ipython3",
   "version": "3.8.8"
  }
 },
 "nbformat": 4,
 "nbformat_minor": 5
}
