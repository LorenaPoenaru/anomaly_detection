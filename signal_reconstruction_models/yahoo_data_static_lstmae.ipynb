{
 "cells": [
  {
   "cell_type": "code",
   "execution_count": 1,
   "id": "4942eeec",
   "metadata": {},
   "outputs": [
    {
     "name": "stderr",
     "output_type": "stream",
     "text": [
      "Using TensorFlow backend.\n"
     ]
    }
   ],
   "source": [
    "import pandas as pd\n",
    "import glob\n",
    "from matplotlib import pyplot\n",
    "import numpy as np\n",
    "from sklearn.preprocessing import MinMaxScaler\n",
    "import matplotlib.pyplot as plt\n",
    "import seaborn as sns\n",
    "\n",
    "from keras.layers import Input, Dropout, Dense, LSTM, TimeDistributed, RepeatVector\n",
    "from keras.models import Model\n",
    "from keras import regularizers\n",
    "\n",
    "from sklearn.metrics import f1_score\n",
    "from sklearn.metrics import recall_score\n",
    "from sklearn.metrics import precision_score\n",
    "\n",
    "import warnings"
   ]
  },
  {
   "cell_type": "code",
   "execution_count": 2,
   "id": "8a0fcc8d",
   "metadata": {},
   "outputs": [],
   "source": [
    "warnings.filterwarnings(\"ignore\")"
   ]
  },
  {
   "cell_type": "markdown",
   "id": "0940e883",
   "metadata": {},
   "source": [
    "# Read Data"
   ]
  },
  {
   "cell_type": "code",
   "execution_count": 7,
   "id": "3f875235",
   "metadata": {},
   "outputs": [],
   "source": [
    "path_files_yahoo = '../datasets/Yahoo_A1Benchmark'"
   ]
  },
  {
   "cell_type": "code",
   "execution_count": 8,
   "id": "5cb3bb9a",
   "metadata": {},
   "outputs": [],
   "source": [
    "filenames_yahoo = glob.glob(path_files_yahoo+\"/*.csv\")"
   ]
  },
  {
   "cell_type": "code",
   "execution_count": 9,
   "id": "6e3be4cf",
   "metadata": {},
   "outputs": [],
   "source": [
    "dfs_yahoo = []\n",
    "for filename in filenames_yahoo:\n",
    "    dfs_yahoo.append(pd.read_csv(filename))"
   ]
  },
  {
   "cell_type": "code",
   "execution_count": 10,
   "id": "89ffb9d4",
   "metadata": {},
   "outputs": [],
   "source": [
    "df_yahoo = pd.concat(dfs_yahoo, ignore_index=True)\n",
    "#df_yahoo"
   ]
  },
  {
   "cell_type": "code",
   "execution_count": 11,
   "id": "b9c9a79c",
   "metadata": {},
   "outputs": [
    {
     "data": {
      "text/plain": [
       "<AxesSubplot:>"
      ]
     },
     "execution_count": 11,
     "metadata": {},
     "output_type": "execute_result"
    },
    {
     "data": {
      "image/png": "[encoded data removed]",
      "text/plain": [
       "<Figure size 432x288 with 1 Axes>"
      ]
     },
     "metadata": {
      "needs_background": "light"
     },
     "output_type": "display_data"
    }
   ],
   "source": [
    "df_yahoo.value.plot()"
   ]
  },
  {
   "cell_type": "markdown",
   "id": "dc2b7efb",
   "metadata": {},
   "source": [
    "# Split Train Test"
   ]
  },
  {
   "cell_type": "markdown",
   "id": "50d44af8",
   "metadata": {},
   "source": [
    "We split data into 50% train and 50% test."
   ]
  },
  {
   "cell_type": "code",
   "execution_count": 12,
   "id": "988c5c6a",
   "metadata": {},
   "outputs": [],
   "source": [
    "train_yahoo = df_yahoo[0:int(np.round(len(df_yahoo)/2))]\n",
    "label_train = train_yahoo.is_anomaly\n",
    "train_yahoo = train_yahoo.drop(['timestamp', 'is_anomaly'], axis = 1)"
   ]
  },
  {
   "cell_type": "code",
   "execution_count": 13,
   "id": "8191174d",
   "metadata": {},
   "outputs": [],
   "source": [
    "test_yahoo = df_yahoo[len(train_yahoo):]\n",
    "label_test = test_yahoo.is_anomaly\n",
    "test_yahoo = test_yahoo.drop(['timestamp', 'is_anomaly'], axis = 1)"
   ]
  },
  {
   "cell_type": "code",
   "execution_count": 14,
   "id": "532a7ec3",
   "metadata": {},
   "outputs": [
    {
     "name": "stdout",
     "output_type": "stream",
     "text": [
      "Train Length 47433\n",
      "Test Length 47433\n"
     ]
    }
   ],
   "source": [
    "print('Train Length', len(train_yahoo))\n",
    "print('Test Length', len(test_yahoo))"
   ]
  },
  {
   "cell_type": "markdown",
   "id": "2b171d40",
   "metadata": {},
   "source": [
    "# Data Preprocessing"
   ]
  },
  {
   "cell_type": "markdown",
   "id": "801c982d",
   "metadata": {},
   "source": [
    "### Train"
   ]
  },
  {
   "cell_type": "code",
   "execution_count": 15,
   "id": "f2dbeac2",
   "metadata": {},
   "outputs": [],
   "source": [
    "scaler = MinMaxScaler()"
   ]
  },
  {
   "cell_type": "code",
   "execution_count": 16,
   "id": "a6eba8e7",
   "metadata": {},
   "outputs": [],
   "source": [
    "train_yahoo_scale = scaler.fit_transform(np.array(train_yahoo.value).reshape(-1, 1))\n",
    "#train_yahoo_scale"
   ]
  },
  {
   "cell_type": "code",
   "execution_count": 17,
   "id": "b4a285c1",
   "metadata": {},
   "outputs": [
    {
     "data": {
      "text/plain": [
       "47433"
      ]
     },
     "execution_count": 17,
     "metadata": {},
     "output_type": "execute_result"
    }
   ],
   "source": [
    "len(train_yahoo_scale)"
   ]
  },
  {
   "cell_type": "markdown",
   "id": "7d2cc016",
   "metadata": {},
   "source": [
    "### Test"
   ]
  },
  {
   "cell_type": "markdown",
   "id": "7d00586a",
   "metadata": {},
   "source": [
    "Scale testing data batches"
   ]
  },
  {
   "cell_type": "code",
   "execution_count": 18,
   "id": "381cb73a",
   "metadata": {},
   "outputs": [
    {
     "data": {
      "text/plain": [
       "1976.375"
      ]
     },
     "execution_count": 18,
     "metadata": {},
     "output_type": "execute_result"
    }
   ],
   "source": [
    "len(test_yahoo)/24"
   ]
  },
  {
   "cell_type": "code",
   "execution_count": 19,
   "id": "fcb8cf0c",
   "metadata": {},
   "outputs": [],
   "source": [
    "test_batches_yahoo = []\n",
    "for i in range(0, len(test_yahoo), 24):\n",
    "    test_batches_yahoo.append(scaler.transform(test_yahoo[i:i+24]))\n",
    "#test_batches_yahoo"
   ]
  },
  {
   "cell_type": "markdown",
   "id": "cc14437e",
   "metadata": {},
   "source": [
    "# Data Shape"
   ]
  },
  {
   "cell_type": "code",
   "execution_count": 20,
   "id": "89a18f10",
   "metadata": {},
   "outputs": [
    {
     "name": "stdout",
     "output_type": "stream",
     "text": [
      "Training data shape: (47433, 1, 1)\n"
     ]
    }
   ],
   "source": [
    "X_train = train_yahoo_scale.reshape(train_yahoo_scale.shape[0], 1, train_yahoo_scale.shape[1])\n",
    "print(\"Training data shape:\", X_train.shape)"
   ]
  },
  {
   "cell_type": "code",
   "execution_count": null,
   "id": "7d1eb433",
   "metadata": {},
   "outputs": [],
   "source": []
  },
  {
   "cell_type": "code",
   "execution_count": null,
   "id": "bc2e1a7e",
   "metadata": {},
   "outputs": [],
   "source": []
  },
  {
   "cell_type": "markdown",
   "id": "8b716a2c",
   "metadata": {},
   "source": [
    "### Train LSTM"
   ]
  },
  {
   "cell_type": "markdown",
   "id": "995d7d92",
   "metadata": {},
   "source": [
    "This is done to reconstruct the model."
   ]
  },
  {
   "cell_type": "code",
   "execution_count": 21,
   "id": "f866c433",
   "metadata": {},
   "outputs": [
    {
     "ename": "AttributeError",
     "evalue": "module 'tensorflow.python.framework.ops' has no attribute '_TensorLike'",
     "output_type": "error",
     "traceback": [
      "\u001b[1;31m---------------------------------------------------------------------------\u001b[0m",
      "\u001b[1;31mAttributeError\u001b[0m                            Traceback (most recent call last)",
      "\u001b[1;32m~\\AppData\\Local\\Temp/ipykernel_14664/1095637277.py\u001b[0m in \u001b[0;36m<module>\u001b[1;34m\u001b[0m\n\u001b[0;32m      1\u001b[0m \u001b[0minputs\u001b[0m \u001b[1;33m=\u001b[0m \u001b[0mInput\u001b[0m\u001b[1;33m(\u001b[0m\u001b[0mshape\u001b[0m\u001b[1;33m=\u001b[0m\u001b[1;33m(\u001b[0m\u001b[0mX_train\u001b[0m\u001b[1;33m.\u001b[0m\u001b[0mshape\u001b[0m\u001b[1;33m[\u001b[0m\u001b[1;36m1\u001b[0m\u001b[1;33m]\u001b[0m\u001b[1;33m,\u001b[0m \u001b[0mX_train\u001b[0m\u001b[1;33m.\u001b[0m\u001b[0mshape\u001b[0m\u001b[1;33m[\u001b[0m\u001b[1;36m2\u001b[0m\u001b[1;33m]\u001b[0m\u001b[1;33m)\u001b[0m\u001b[1;33m)\u001b[0m\u001b[1;33m\u001b[0m\u001b[0m\n\u001b[0;32m      2\u001b[0m L1 = LSTM(16, activation='relu', return_sequences=True, \n\u001b[1;32m----> 3\u001b[1;33m         kernel_regularizer=regularizers.l2(0.00))(inputs)\n\u001b[0m\u001b[0;32m      4\u001b[0m \u001b[0mL2\u001b[0m \u001b[1;33m=\u001b[0m \u001b[0mLSTM\u001b[0m\u001b[1;33m(\u001b[0m\u001b[1;36m8\u001b[0m\u001b[1;33m,\u001b[0m \u001b[0mactivation\u001b[0m\u001b[1;33m=\u001b[0m\u001b[1;34m'relu'\u001b[0m\u001b[1;33m,\u001b[0m \u001b[0mreturn_sequences\u001b[0m\u001b[1;33m=\u001b[0m\u001b[1;32mFalse\u001b[0m\u001b[1;33m)\u001b[0m\u001b[1;33m(\u001b[0m\u001b[0mL1\u001b[0m\u001b[1;33m)\u001b[0m\u001b[1;33m\u001b[0m\u001b[0m\n\u001b[0;32m      5\u001b[0m \u001b[0mL3\u001b[0m \u001b[1;33m=\u001b[0m \u001b[0mRepeatVector\u001b[0m\u001b[1;33m(\u001b[0m\u001b[0mX_train\u001b[0m\u001b[1;33m.\u001b[0m\u001b[0mshape\u001b[0m\u001b[1;33m[\u001b[0m\u001b[1;36m1\u001b[0m\u001b[1;33m]\u001b[0m\u001b[1;33m)\u001b[0m\u001b[1;33m(\u001b[0m\u001b[0mL2\u001b[0m\u001b[1;33m)\u001b[0m\u001b[1;33m\u001b[0m\u001b[0m\n",
      "\u001b[1;32mc:\\Users\\oxifl\\AppData\\Local\\Programs\\Python\\Python37\\lib\\site-packages\\keras\\layers\\recurrent.py\u001b[0m in \u001b[0;36m__call__\u001b[1;34m(self, inputs, initial_state, constants, **kwargs)\u001b[0m\n\u001b[0;32m    539\u001b[0m \u001b[1;33m\u001b[0m\u001b[0m\n\u001b[0;32m    540\u001b[0m         \u001b[1;32mif\u001b[0m \u001b[0minitial_state\u001b[0m \u001b[1;32mis\u001b[0m \u001b[1;32mNone\u001b[0m \u001b[1;32mand\u001b[0m \u001b[0mconstants\u001b[0m \u001b[1;32mis\u001b[0m \u001b[1;32mNone\u001b[0m\u001b[1;33m:\u001b[0m\u001b[1;33m\u001b[0m\u001b[0m\n\u001b[1;32m--> 541\u001b[1;33m             \u001b[1;32mreturn\u001b[0m \u001b[0msuper\u001b[0m\u001b[1;33m(\u001b[0m\u001b[0mRNN\u001b[0m\u001b[1;33m,\u001b[0m \u001b[0mself\u001b[0m\u001b[1;33m)\u001b[0m\u001b[1;33m.\u001b[0m\u001b[0m__call__\u001b[0m\u001b[1;33m(\u001b[0m\u001b[0minputs\u001b[0m\u001b[1;33m,\u001b[0m \u001b[1;33m**\u001b[0m\u001b[0mkwargs\u001b[0m\u001b[1;33m)\u001b[0m\u001b[1;33m\u001b[0m\u001b[0m\n\u001b[0m\u001b[0;32m    542\u001b[0m \u001b[1;33m\u001b[0m\u001b[0m\n\u001b[0;32m    543\u001b[0m         \u001b[1;31m# If any of `initial_state` or `constants` are specified and are Keras\u001b[0m\u001b[1;33m\u001b[0m\u001b[1;33m\u001b[0m\u001b[0m\n",
      "\u001b[1;32mc:\\Users\\oxifl\\AppData\\Local\\Programs\\Python\\Python37\\lib\\site-packages\\keras\\backend\\tensorflow_backend.py\u001b[0m in \u001b[0;36msymbolic_fn_wrapper\u001b[1;34m(*args, **kwargs)\u001b[0m\n\u001b[0;32m     73\u001b[0m         \u001b[1;32mif\u001b[0m \u001b[0m_SYMBOLIC_SCOPE\u001b[0m\u001b[1;33m.\u001b[0m\u001b[0mvalue\u001b[0m\u001b[1;33m:\u001b[0m\u001b[1;33m\u001b[0m\u001b[0m\n\u001b[0;32m     74\u001b[0m             \u001b[1;32mwith\u001b[0m \u001b[0mget_graph\u001b[0m\u001b[1;33m(\u001b[0m\u001b[1;33m)\u001b[0m\u001b[1;33m.\u001b[0m\u001b[0mas_default\u001b[0m\u001b[1;33m(\u001b[0m\u001b[1;33m)\u001b[0m\u001b[1;33m:\u001b[0m\u001b[1;33m\u001b[0m\u001b[0m\n\u001b[1;32m---> 75\u001b[1;33m                 \u001b[1;32mreturn\u001b[0m \u001b[0mfunc\u001b[0m\u001b[1;33m(\u001b[0m\u001b[1;33m*\u001b[0m\u001b[0margs\u001b[0m\u001b[1;33m,\u001b[0m \u001b[1;33m**\u001b[0m\u001b[0mkwargs\u001b[0m\u001b[1;33m)\u001b[0m\u001b[1;33m\u001b[0m\u001b[0m\n\u001b[0m\u001b[0;32m     76\u001b[0m         \u001b[1;32melse\u001b[0m\u001b[1;33m:\u001b[0m\u001b[1;33m\u001b[0m\u001b[0m\n\u001b[0;32m     77\u001b[0m             \u001b[1;32mreturn\u001b[0m \u001b[0mfunc\u001b[0m\u001b[1;33m(\u001b[0m\u001b[1;33m*\u001b[0m\u001b[0margs\u001b[0m\u001b[1;33m,\u001b[0m \u001b[1;33m**\u001b[0m\u001b[0mkwargs\u001b[0m\u001b[1;33m)\u001b[0m\u001b[1;33m\u001b[0m\u001b[0m\n",
      "\u001b[1;32mc:\\Users\\oxifl\\AppData\\Local\\Programs\\Python\\Python37\\lib\\site-packages\\keras\\engine\\base_layer.py\u001b[0m in \u001b[0;36m__call__\u001b[1;34m(self, inputs, **kwargs)\u001b[0m\n\u001b[0;32m    444\u001b[0m                 \u001b[1;31m# Raise exceptions in case the input is not compatible\u001b[0m\u001b[1;33m\u001b[0m\u001b[1;33m\u001b[0m\u001b[0m\n\u001b[0;32m    445\u001b[0m                 \u001b[1;31m# with the input_spec specified in the layer constructor.\u001b[0m\u001b[1;33m\u001b[0m\u001b[1;33m\u001b[0m\u001b[0m\n\u001b[1;32m--> 446\u001b[1;33m                 \u001b[0mself\u001b[0m\u001b[1;33m.\u001b[0m\u001b[0massert_input_compatibility\u001b[0m\u001b[1;33m(\u001b[0m\u001b[0minputs\u001b[0m\u001b[1;33m)\u001b[0m\u001b[1;33m\u001b[0m\u001b[0m\n\u001b[0m\u001b[0;32m    447\u001b[0m \u001b[1;33m\u001b[0m\u001b[0m\n\u001b[0;32m    448\u001b[0m                 \u001b[1;31m# Collect input shapes to build layer.\u001b[0m\u001b[1;33m\u001b[0m\u001b[1;33m\u001b[0m\u001b[0m\n",
      "\u001b[1;32mc:\\Users\\oxifl\\AppData\\Local\\Programs\\Python\\Python37\\lib\\site-packages\\keras\\engine\\base_layer.py\u001b[0m in \u001b[0;36massert_input_compatibility\u001b[1;34m(self, inputs)\u001b[0m\n\u001b[0;32m    308\u001b[0m         \u001b[1;32mfor\u001b[0m \u001b[0mx\u001b[0m \u001b[1;32min\u001b[0m \u001b[0minputs\u001b[0m\u001b[1;33m:\u001b[0m\u001b[1;33m\u001b[0m\u001b[0m\n\u001b[0;32m    309\u001b[0m             \u001b[1;32mtry\u001b[0m\u001b[1;33m:\u001b[0m\u001b[1;33m\u001b[0m\u001b[0m\n\u001b[1;32m--> 310\u001b[1;33m                 \u001b[0mK\u001b[0m\u001b[1;33m.\u001b[0m\u001b[0mis_keras_tensor\u001b[0m\u001b[1;33m(\u001b[0m\u001b[0mx\u001b[0m\u001b[1;33m)\u001b[0m\u001b[1;33m\u001b[0m\u001b[0m\n\u001b[0m\u001b[0;32m    311\u001b[0m             \u001b[1;32mexcept\u001b[0m \u001b[0mValueError\u001b[0m\u001b[1;33m:\u001b[0m\u001b[1;33m\u001b[0m\u001b[0m\n\u001b[0;32m    312\u001b[0m                 raise ValueError('Layer ' + self.name + ' was called with '\n",
      "\u001b[1;32mc:\\Users\\oxifl\\AppData\\Local\\Programs\\Python\\Python37\\lib\\site-packages\\keras\\backend\\tensorflow_backend.py\u001b[0m in \u001b[0;36mis_keras_tensor\u001b[1;34m(x)\u001b[0m\n\u001b[0;32m    693\u001b[0m     \u001b[0;31m`\u001b[0m\u001b[0;31m`\u001b[0m\u001b[0;31m`\u001b[0m\u001b[1;33m\u001b[0m\u001b[0m\n\u001b[0;32m    694\u001b[0m     \"\"\"\n\u001b[1;32m--> 695\u001b[1;33m     \u001b[1;32mif\u001b[0m \u001b[1;32mnot\u001b[0m \u001b[0mis_tensor\u001b[0m\u001b[1;33m(\u001b[0m\u001b[0mx\u001b[0m\u001b[1;33m)\u001b[0m\u001b[1;33m:\u001b[0m\u001b[1;33m\u001b[0m\u001b[0m\n\u001b[0m\u001b[0;32m    696\u001b[0m         raise ValueError('Unexpectedly found an instance of type `' +\n\u001b[0;32m    697\u001b[0m                          \u001b[0mstr\u001b[0m\u001b[1;33m(\u001b[0m\u001b[0mtype\u001b[0m\u001b[1;33m(\u001b[0m\u001b[0mx\u001b[0m\u001b[1;33m)\u001b[0m\u001b[1;33m)\u001b[0m \u001b[1;33m+\u001b[0m \u001b[1;34m'`. '\u001b[0m\u001b[1;33m\u001b[0m\u001b[0m\n",
      "\u001b[1;32mc:\\Users\\oxifl\\AppData\\Local\\Programs\\Python\\Python37\\lib\\site-packages\\keras\\backend\\tensorflow_backend.py\u001b[0m in \u001b[0;36mis_tensor\u001b[1;34m(x)\u001b[0m\n\u001b[0;32m    701\u001b[0m \u001b[1;33m\u001b[0m\u001b[0m\n\u001b[0;32m    702\u001b[0m \u001b[1;32mdef\u001b[0m \u001b[0mis_tensor\u001b[0m\u001b[1;33m(\u001b[0m\u001b[0mx\u001b[0m\u001b[1;33m)\u001b[0m\u001b[1;33m:\u001b[0m\u001b[1;33m\u001b[0m\u001b[0m\n\u001b[1;32m--> 703\u001b[1;33m     \u001b[1;32mreturn\u001b[0m \u001b[0misinstance\u001b[0m\u001b[1;33m(\u001b[0m\u001b[0mx\u001b[0m\u001b[1;33m,\u001b[0m \u001b[0mtf_ops\u001b[0m\u001b[1;33m.\u001b[0m\u001b[0m_TensorLike\u001b[0m\u001b[1;33m)\u001b[0m \u001b[1;32mor\u001b[0m \u001b[0mtf_ops\u001b[0m\u001b[1;33m.\u001b[0m\u001b[0mis_dense_tensor_like\u001b[0m\u001b[1;33m(\u001b[0m\u001b[0mx\u001b[0m\u001b[1;33m)\u001b[0m\u001b[1;33m\u001b[0m\u001b[0m\n\u001b[0m\u001b[0;32m    704\u001b[0m \u001b[1;33m\u001b[0m\u001b[0m\n\u001b[0;32m    705\u001b[0m \u001b[1;33m\u001b[0m\u001b[0m\n",
      "\u001b[1;31mAttributeError\u001b[0m: module 'tensorflow.python.framework.ops' has no attribute '_TensorLike'"
     ]
    }
   ],
   "source": [
    "inputs = Input(shape=(X_train.shape[1], X_train.shape[2]))\n",
    "L1 = LSTM(16, activation='relu', return_sequences=True, \n",
    "        kernel_regularizer=regularizers.l2(0.00))(inputs)\n",
    "L2 = LSTM(8, activation='relu', return_sequences=False)(L1)\n",
    "L3 = RepeatVector(X_train.shape[1])(L2)\n",
    "L4 = LSTM(8, activation='relu', return_sequences=True)(L3)\n",
    "L5 = LSTM(16, activation='relu', return_sequences=True)(L4)\n",
    "output = TimeDistributed(Dense(X_train.shape[2]))(L5)    \n",
    "model = Model(inputs=inputs, outputs=output)\n"
   ]
  },
  {
   "cell_type": "code",
   "execution_count": 18,
   "id": "fb76e4dd",
   "metadata": {},
   "outputs": [
    {
     "name": "stdout",
     "output_type": "stream",
     "text": [
      "Model: \"model\"\n",
      "_________________________________________________________________\n",
      " Layer (type)                Output Shape              Param #   \n",
      "=================================================================\n",
      " input_1 (InputLayer)        [(None, 1, 1)]            0         \n",
      "                                                                 \n",
      " lstm (LSTM)                 (None, 1, 16)             1152      \n",
      "                                                                 \n",
      " lstm_1 (LSTM)               (None, 8)                 800       \n",
      "                                                                 \n",
      " repeat_vector (RepeatVector  (None, 1, 8)             0         \n",
      " )                                                               \n",
      "                                                                 \n",
      " lstm_2 (LSTM)               (None, 1, 8)              544       \n",
      "                                                                 \n",
      " lstm_3 (LSTM)               (None, 1, 16)             1600      \n",
      "                                                                 \n",
      " time_distributed (TimeDistr  (None, 1, 1)             17        \n",
      " ibuted)                                                         \n",
      "                                                                 \n",
      "=================================================================\n",
      "Total params: 4,113\n",
      "Trainable params: 4,113\n",
      "Non-trainable params: 0\n",
      "_________________________________________________________________\n"
     ]
    }
   ],
   "source": [
    "model.compile(optimizer='adam', loss='mae')\n",
    "model.summary()"
   ]
  },
  {
   "cell_type": "code",
   "execution_count": 19,
   "id": "cb5a4884",
   "metadata": {
    "scrolled": true
   },
   "outputs": [
    {
     "name": "stdout",
     "output_type": "stream",
     "text": [
      "Epoch 1/50\n",
      "278/278 [==============================] - 4s 4ms/step - loss: 0.0243 - val_loss: 0.0198\n",
      "Epoch 2/50\n",
      "278/278 [==============================] - 1s 3ms/step - loss: 0.0089 - val_loss: 0.0088\n",
      "Epoch 3/50\n",
      "278/278 [==============================] - 1s 3ms/step - loss: 0.0040 - val_loss: 0.0045\n",
      "Epoch 4/50\n",
      "278/278 [==============================] - 1s 3ms/step - loss: 0.0020 - val_loss: 5.1099e-04\n",
      "Epoch 5/50\n",
      "278/278 [==============================] - 1s 3ms/step - loss: 8.6884e-04 - val_loss: 4.5586e-04\n",
      "Epoch 6/50\n",
      "278/278 [==============================] - 1s 3ms/step - loss: 9.3909e-04 - val_loss: 7.7301e-04\n",
      "Epoch 7/50\n",
      "278/278 [==============================] - 1s 3ms/step - loss: 8.2450e-04 - val_loss: 9.4904e-05\n",
      "Epoch 8/50\n",
      "278/278 [==============================] - 1s 3ms/step - loss: 6.1881e-04 - val_loss: 2.2793e-04\n",
      "Epoch 9/50\n",
      "278/278 [==============================] - 1s 3ms/step - loss: 5.5513e-04 - val_loss: 7.2543e-04\n",
      "Epoch 10/50\n",
      "278/278 [==============================] - 1s 3ms/step - loss: 5.2061e-04 - val_loss: 8.8798e-04\n",
      "Epoch 11/50\n",
      "278/278 [==============================] - 1s 3ms/step - loss: 7.7805e-04 - val_loss: 2.9183e-04\n",
      "Epoch 12/50\n",
      "278/278 [==============================] - 1s 3ms/step - loss: 6.4172e-04 - val_loss: 6.2022e-04\n",
      "Epoch 13/50\n",
      "278/278 [==============================] - 1s 3ms/step - loss: 5.2672e-04 - val_loss: 3.8421e-04\n",
      "Epoch 14/50\n",
      "278/278 [==============================] - 1s 3ms/step - loss: 6.5377e-04 - val_loss: 0.0010\n",
      "Epoch 15/50\n",
      "278/278 [==============================] - 1s 3ms/step - loss: 6.1126e-04 - val_loss: 4.0046e-04\n",
      "Epoch 16/50\n",
      "278/278 [==============================] - 1s 3ms/step - loss: 6.4985e-04 - val_loss: 8.2626e-04\n",
      "Epoch 17/50\n",
      "278/278 [==============================] - 1s 3ms/step - loss: 6.7805e-04 - val_loss: 7.0246e-05\n",
      "Epoch 18/50\n",
      "278/278 [==============================] - 1s 3ms/step - loss: 6.3410e-04 - val_loss: 6.3392e-04\n",
      "Epoch 19/50\n",
      "278/278 [==============================] - 1s 3ms/step - loss: 4.6960e-04 - val_loss: 1.9507e-04\n",
      "Epoch 20/50\n",
      "278/278 [==============================] - 1s 3ms/step - loss: 6.0015e-04 - val_loss: 5.2098e-04\n",
      "Epoch 21/50\n",
      "278/278 [==============================] - 1s 3ms/step - loss: 6.7552e-04 - val_loss: 1.8210e-04\n",
      "Epoch 22/50\n",
      "278/278 [==============================] - 1s 3ms/step - loss: 5.8312e-04 - val_loss: 9.1982e-05\n",
      "Epoch 23/50\n",
      "278/278 [==============================] - 1s 3ms/step - loss: 0.0010 - val_loss: 5.5644e-04\n",
      "Epoch 24/50\n",
      "278/278 [==============================] - 1s 3ms/step - loss: 6.5869e-04 - val_loss: 7.4834e-04\n",
      "Epoch 25/50\n",
      "278/278 [==============================] - 1s 3ms/step - loss: 8.3246e-04 - val_loss: 3.1980e-04\n",
      "Epoch 26/50\n",
      "278/278 [==============================] - 1s 3ms/step - loss: 6.8198e-04 - val_loss: 1.2294e-04\n",
      "Epoch 27/50\n",
      "278/278 [==============================] - 1s 3ms/step - loss: 6.6593e-04 - val_loss: 1.8753e-04\n",
      "Epoch 28/50\n",
      "278/278 [==============================] - 1s 3ms/step - loss: 6.3520e-04 - val_loss: 1.3954e-04\n",
      "Epoch 29/50\n",
      "278/278 [==============================] - 1s 3ms/step - loss: 5.1037e-04 - val_loss: 4.4647e-04\n",
      "Epoch 30/50\n",
      "278/278 [==============================] - 1s 3ms/step - loss: 7.5283e-04 - val_loss: 7.8222e-04\n",
      "Epoch 31/50\n",
      "278/278 [==============================] - 1s 3ms/step - loss: 5.4317e-04 - val_loss: 1.7126e-04\n",
      "Epoch 32/50\n",
      "278/278 [==============================] - 1s 3ms/step - loss: 6.3904e-04 - val_loss: 0.0012\n",
      "Epoch 33/50\n",
      "278/278 [==============================] - 1s 3ms/step - loss: 5.9720e-04 - val_loss: 6.4607e-04\n",
      "Epoch 34/50\n",
      "278/278 [==============================] - 1s 3ms/step - loss: 6.7550e-04 - val_loss: 1.2584e-04\n",
      "Epoch 35/50\n",
      "278/278 [==============================] - 1s 3ms/step - loss: 4.4863e-04 - val_loss: 8.7686e-04\n",
      "Epoch 36/50\n",
      "278/278 [==============================] - 1s 3ms/step - loss: 6.2174e-04 - val_loss: 3.3873e-04\n",
      "Epoch 37/50\n",
      "278/278 [==============================] - 1s 3ms/step - loss: 4.3513e-04 - val_loss: 8.2249e-05\n",
      "Epoch 38/50\n",
      "278/278 [==============================] - 1s 3ms/step - loss: 5.8644e-04 - val_loss: 1.6069e-04\n",
      "Epoch 39/50\n",
      "278/278 [==============================] - 1s 3ms/step - loss: 7.1663e-04 - val_loss: 9.7443e-04\n",
      "Epoch 40/50\n",
      "278/278 [==============================] - 1s 3ms/step - loss: 5.1667e-04 - val_loss: 8.1623e-05\n",
      "Epoch 41/50\n",
      "278/278 [==============================] - 1s 3ms/step - loss: 5.3038e-04 - val_loss: 9.9539e-04\n",
      "Epoch 42/50\n",
      "278/278 [==============================] - 1s 3ms/step - loss: 5.4256e-04 - val_loss: 4.9796e-04\n",
      "Epoch 43/50\n",
      "278/278 [==============================] - 1s 3ms/step - loss: 6.3995e-04 - val_loss: 6.9586e-04\n",
      "Epoch 44/50\n",
      "278/278 [==============================] - 1s 3ms/step - loss: 6.2175e-04 - val_loss: 4.7096e-04\n",
      "Epoch 45/50\n",
      "278/278 [==============================] - 1s 3ms/step - loss: 6.0859e-04 - val_loss: 1.2072e-04\n",
      "Epoch 46/50\n",
      "278/278 [==============================] - 1s 3ms/step - loss: 6.7121e-04 - val_loss: 4.2801e-04\n",
      "Epoch 47/50\n",
      "278/278 [==============================] - 1s 3ms/step - loss: 5.5433e-04 - val_loss: 3.6561e-04\n",
      "Epoch 48/50\n",
      "278/278 [==============================] - 1s 3ms/step - loss: 5.1145e-04 - val_loss: 7.7938e-04\n",
      "Epoch 49/50\n",
      "278/278 [==============================] - 1s 3ms/step - loss: 5.3943e-04 - val_loss: 6.1427e-04\n",
      "Epoch 50/50\n",
      "278/278 [==============================] - 1s 3ms/step - loss: 4.9242e-04 - val_loss: 9.6706e-04\n"
     ]
    }
   ],
   "source": [
    "no_epochs = 50\n",
    "batch_size = 128\n",
    "encdec = model.fit(X_train, X_train, epochs=no_epochs, batch_size=batch_size,\n",
    "                    validation_split=0.25).history"
   ]
  },
  {
   "cell_type": "code",
   "execution_count": 20,
   "id": "46879611",
   "metadata": {},
   "outputs": [
    {
     "data": {
      "image/png": "[encoded data removed]",
      "text/plain": [
       "<Figure size 1120x480 with 1 Axes>"
      ]
     },
     "metadata": {
      "needs_background": "light"
     },
     "output_type": "display_data"
    }
   ],
   "source": [
    "fig, ax = plt.subplots(figsize=(14, 6), dpi=80)\n",
    "ax.plot(encdec['loss'], 'b', label='Train', linewidth=2)\n",
    "ax.plot(encdec['val_loss'], 'r', label='Validation', linewidth=2)\n",
    "ax.set_title('Model loss', fontsize=16)\n",
    "ax.set_ylabel('Loss (mae)')\n",
    "ax.set_xlabel('Epoch')\n",
    "ax.legend(loc='upper right')\n",
    "plt.show()"
   ]
  },
  {
   "cell_type": "code",
   "execution_count": 21,
   "id": "6b49ab24",
   "metadata": {},
   "outputs": [],
   "source": [
    "#encdec['loss']"
   ]
  },
  {
   "cell_type": "code",
   "execution_count": 22,
   "id": "569964c8",
   "metadata": {},
   "outputs": [],
   "source": [
    "#encdec['val_loss']"
   ]
  },
  {
   "cell_type": "markdown",
   "id": "c2fe3918",
   "metadata": {},
   "source": [
    "### Anomaly Detection"
   ]
  },
  {
   "cell_type": "markdown",
   "id": "95c34693",
   "metadata": {},
   "source": [
    "Calculating the threshold that indicates an anomaly."
   ]
  },
  {
   "cell_type": "markdown",
   "id": "29fbb8a9",
   "metadata": {},
   "source": [
    "THRESHOLD FROM PAPER"
   ]
  },
  {
   "cell_type": "code",
   "execution_count": 23,
   "id": "ed69cc3e",
   "metadata": {},
   "outputs": [
    {
     "name": "stdout",
     "output_type": "stream",
     "text": [
      "Reconstruction error mean threshold: 0.0010326487648018414\n",
      "Reconstruction error std threshold: 0.000689061105937687\n"
     ]
    },
    {
     "data": {
      "image/png": "[encoded data removed]",
      "text/plain": [
       "<Figure size 432x288 with 1 Axes>"
      ]
     },
     "metadata": {
      "needs_background": "light"
     },
     "output_type": "display_data"
    }
   ],
   "source": [
    "X_train_pred = model.predict(X_train, verbose=0)\n",
    "train_mae_loss_avg = np.mean(np.abs(X_train_pred - X_train), axis=1)\n",
    "\n",
    "plt.hist(train_mae_loss_avg, bins=50)\n",
    "plt.xlabel('Train MAE loss')\n",
    "plt.ylabel('Number of Samples');\n",
    "\n",
    "mean_threshold = np.mean(train_mae_loss_avg)\n",
    "std_threshold = np.std(train_mae_loss_avg)\n",
    "\n",
    "print(f'Reconstruction error mean threshold: {mean_threshold}')\n",
    "print(f'Reconstruction error std threshold: {std_threshold}')"
   ]
  },
  {
   "cell_type": "markdown",
   "id": "d235a3ab",
   "metadata": {},
   "source": [
    "THRESHOLD USING MAX - it might be more accurate than mean + std because the skewness of the mae loss."
   ]
  },
  {
   "cell_type": "code",
   "execution_count": 24,
   "id": "b61e5130",
   "metadata": {},
   "outputs": [
    {
     "name": "stdout",
     "output_type": "stream",
     "text": [
      "Reconstruction error Max threshold: 0.01471567153930664\n"
     ]
    },
    {
     "data": {
      "image/png": "[encoded data removed]",
      "text/plain": [
       "<Figure size 432x288 with 1 Axes>"
      ]
     },
     "metadata": {
      "needs_background": "light"
     },
     "output_type": "display_data"
    }
   ],
   "source": [
    "X_train_pred = model.predict(X_train, verbose=0)\n",
    "train_mae_loss_avg = np.mean(np.abs(X_train_pred - X_train), axis=1)\n",
    "\n",
    "plt.hist(train_mae_loss_avg, bins=50)\n",
    "plt.xlabel('Train MAE loss')\n",
    "plt.ylabel('Number of Samples');\n",
    "\n",
    "max_threshold = np.max(train_mae_loss_avg)\n",
    "\n",
    "print(f'Reconstruction error Max threshold: {max_threshold}')"
   ]
  },
  {
   "cell_type": "markdown",
   "id": "001c8585",
   "metadata": {},
   "source": [
    "## Test Model and Extract Loss"
   ]
  },
  {
   "cell_type": "code",
   "execution_count": 25,
   "id": "7e31db28",
   "metadata": {},
   "outputs": [],
   "source": [
    "test_mae_loss = []\n",
    "for i in range(0,len(test_batches_yahoo)):\n",
    "    X_test_pred = model.predict(test_batches_yahoo[i], verbose=0)\n",
    "    test_mae_loss.append(np.mean(np.abs(X_test_pred-test_batches_yahoo[i]), axis=1))\n",
    "#test_mae_loss"
   ]
  },
  {
   "cell_type": "markdown",
   "id": "f36e5816",
   "metadata": {},
   "source": [
    "### Extracting Anomalous Predicted Points"
   ]
  },
  {
   "cell_type": "code",
   "execution_count": 26,
   "id": "73f3a212",
   "metadata": {},
   "outputs": [],
   "source": [
    "predicted_test_label = []\n",
    "for i in range(0, len(test_mae_loss)):\n",
    "    for j in range(0, len(test_mae_loss[i])):\n",
    "        \n",
    "        # for threshold with mean + std\n",
    "        #if(test_mae_loss[i][j][0]>(mean_threshold+std_threshold)):\n",
    "        \n",
    "        # for threshold with max\n",
    "        if(test_mae_loss[i][j][0]>(max_threshold)):\n",
    "            predicted_test_label.append(1)\n",
    "        else:\n",
    "            predicted_test_label.append(0)"
   ]
  },
  {
   "cell_type": "code",
   "execution_count": null,
   "id": "a4078895",
   "metadata": {},
   "outputs": [],
   "source": []
  },
  {
   "cell_type": "code",
   "execution_count": 27,
   "id": "087cd5a9",
   "metadata": {},
   "outputs": [
    {
     "data": {
      "text/plain": [
       "0.9493758101141739"
      ]
     },
     "execution_count": 27,
     "metadata": {},
     "output_type": "execute_result"
    }
   ],
   "source": [
    "f1_score(label_test, predicted_test_label, average='weighted')"
   ]
  },
  {
   "cell_type": "code",
   "execution_count": 28,
   "id": "c04defeb",
   "metadata": {},
   "outputs": [
    {
     "data": {
      "text/plain": [
       "0.5188576318080317"
      ]
     },
     "execution_count": 28,
     "metadata": {},
     "output_type": "execute_result"
    }
   ],
   "source": [
    "f1_score(label_test, predicted_test_label, average='macro')"
   ]
  },
  {
   "cell_type": "code",
   "execution_count": 29,
   "id": "b495892b",
   "metadata": {},
   "outputs": [
    {
     "data": {
      "text/plain": [
       "0.937743764889423"
      ]
     },
     "execution_count": 29,
     "metadata": {},
     "output_type": "execute_result"
    }
   ],
   "source": [
    "f1_score(label_test, predicted_test_label, average='micro')"
   ]
  },
  {
   "cell_type": "code",
   "execution_count": null,
   "id": "0ca094fe",
   "metadata": {},
   "outputs": [],
   "source": []
  },
  {
   "cell_type": "code",
   "execution_count": 30,
   "id": "1369b374",
   "metadata": {},
   "outputs": [
    {
     "data": {
      "text/plain": [
       "0.9618541045010347"
      ]
     },
     "execution_count": 30,
     "metadata": {},
     "output_type": "execute_result"
    }
   ],
   "source": [
    "precision_score(label_test, predicted_test_label, average='weighted')"
   ]
  },
  {
   "cell_type": "code",
   "execution_count": 31,
   "id": "9265aaed",
   "metadata": {},
   "outputs": [
    {
     "data": {
      "text/plain": [
       "0.5156754967250463"
      ]
     },
     "execution_count": 31,
     "metadata": {},
     "output_type": "execute_result"
    }
   ],
   "source": [
    "precision_score(label_test, predicted_test_label, average='macro')"
   ]
  },
  {
   "cell_type": "code",
   "execution_count": 32,
   "id": "cbcf3692",
   "metadata": {},
   "outputs": [
    {
     "data": {
      "text/plain": [
       "0.937743764889423"
      ]
     },
     "execution_count": 32,
     "metadata": {},
     "output_type": "execute_result"
    }
   ],
   "source": [
    "precision_score(label_test, predicted_test_label, average='micro')"
   ]
  },
  {
   "cell_type": "code",
   "execution_count": null,
   "id": "b5c94af2",
   "metadata": {},
   "outputs": [],
   "source": []
  },
  {
   "cell_type": "code",
   "execution_count": 33,
   "id": "3c3906c6",
   "metadata": {},
   "outputs": [
    {
     "data": {
      "text/plain": [
       "0.937743764889423"
      ]
     },
     "execution_count": 33,
     "metadata": {},
     "output_type": "execute_result"
    }
   ],
   "source": [
    "recall_score(label_test, predicted_test_label, average='weighted')"
   ]
  },
  {
   "cell_type": "code",
   "execution_count": 34,
   "id": "609aeb04",
   "metadata": {},
   "outputs": [
    {
     "data": {
      "text/plain": [
       "0.5345368536362104"
      ]
     },
     "execution_count": 34,
     "metadata": {},
     "output_type": "execute_result"
    }
   ],
   "source": [
    "recall_score(label_test, predicted_test_label, average='macro')"
   ]
  },
  {
   "cell_type": "code",
   "execution_count": 35,
   "id": "cc462086",
   "metadata": {},
   "outputs": [
    {
     "data": {
      "text/plain": [
       "0.937743764889423"
      ]
     },
     "execution_count": 35,
     "metadata": {},
     "output_type": "execute_result"
    }
   ],
   "source": [
    "recall_score(label_test, predicted_test_label, average='micro')"
   ]
  },
  {
   "cell_type": "markdown",
   "id": "e64f7aa3",
   "metadata": {},
   "source": [
    "## Save Results"
   ]
  },
  {
   "cell_type": "code",
   "execution_count": 36,
   "id": "8b86f479",
   "metadata": {},
   "outputs": [],
   "source": [
    "df_results = pd.DataFrame()"
   ]
  },
  {
   "cell_type": "code",
   "execution_count": 37,
   "id": "b7dc6420",
   "metadata": {},
   "outputs": [],
   "source": [
    "df_results['true_labels'] = label_test\n",
    "df_results['lstmae_static_labels'] = predicted_test_label"
   ]
  },
  {
   "cell_type": "code",
   "execution_count": null,
   "id": "c6f00d71",
   "metadata": {},
   "outputs": [],
   "source": []
  },
  {
   "cell_type": "code",
   "execution_count": 39,
   "id": "b7f665fd",
   "metadata": {},
   "outputs": [],
   "source": [
    "df_results.to_csv('./results/predictions_real_labels.csv')"
   ]
  },
  {
   "cell_type": "code",
   "execution_count": null,
   "id": "e03aecf1",
   "metadata": {},
   "outputs": [],
   "source": []
  },
  {
   "cell_type": "code",
   "execution_count": null,
   "id": "43dddba4",
   "metadata": {},
   "outputs": [],
   "source": []
  },
  {
   "cell_type": "markdown",
   "id": "5c40838a",
   "metadata": {},
   "source": [
    "# Plot Anomalies in Test"
   ]
  },
  {
   "cell_type": "code",
   "execution_count": 40,
   "id": "4f15167b",
   "metadata": {},
   "outputs": [],
   "source": [
    "test_mae_loss_plot = []\n",
    "for i in range(0, len(test_batches_yahoo)):\n",
    "    for j in range(0, len(test_batches_yahoo[i])):\n",
    "        test_mae_loss_plot.append(test_batches_yahoo[i][j][0])\n",
    "#test_mae_loss_plot"
   ]
  },
  {
   "cell_type": "code",
   "execution_count": 41,
   "id": "2b91a2d3",
   "metadata": {},
   "outputs": [],
   "source": [
    "#[i for i,v in enumerate(test_mae_loss_plot) if v > max_threshold]"
   ]
  },
  {
   "cell_type": "code",
   "execution_count": 42,
   "id": "b485d7c8",
   "metadata": {},
   "outputs": [
    {
     "data": {
      "image/png": "[encoded data removed]",
      "text/plain": [
       "<Figure size 1152x576 with 1 Axes>"
      ]
     },
     "metadata": {
      "needs_background": "light"
     },
     "output_type": "display_data"
    }
   ],
   "source": [
    "plt.figure(figsize=(16,8))\n",
    "plt.plot(test_yahoo)\n",
    "plt.xlabel('Time')\n",
    "plt.ylabel('X_Test');"
   ]
  },
  {
   "cell_type": "code",
   "execution_count": 43,
   "id": "654ee321",
   "metadata": {},
   "outputs": [
    {
     "data": {
      "image/png": "[encoded data removed]",
      "text/plain": [
       "<Figure size 1152x576 with 1 Axes>"
      ]
     },
     "metadata": {
      "needs_background": "light"
     },
     "output_type": "display_data"
    }
   ],
   "source": [
    "markers_on = [i for i,v in enumerate(test_mae_loss_plot) if v > max_threshold]\n",
    "plt.figure(figsize=(16,8))\n",
    "plt.plot(test_yahoo, markevery=markers_on, marker = 'o', mec = 'r', mfc = 'r', ms = 5)\n",
    "plt.xlabel('Time')\n",
    "plt.ylabel('X_Test');"
   ]
  },
  {
   "cell_type": "code",
   "execution_count": null,
   "id": "3f4c18ef",
   "metadata": {},
   "outputs": [],
   "source": []
  },
  {
   "cell_type": "code",
   "execution_count": null,
   "id": "28628d16",
   "metadata": {},
   "outputs": [],
   "source": []
  },
  {
   "cell_type": "code",
   "execution_count": null,
   "id": "77a4b3ed",
   "metadata": {},
   "outputs": [],
   "source": []
  },
  {
   "cell_type": "code",
   "execution_count": null,
   "id": "4f71cb1b",
   "metadata": {},
   "outputs": [],
   "source": []
  },
  {
   "cell_type": "code",
   "execution_count": null,
   "id": "b70553cf",
   "metadata": {},
   "outputs": [],
   "source": []
  }
 ],
 "metadata": {
  "kernelspec": {
   "display_name": "Python 3.7.0 64-bit",
   "language": "python",
   "name": "python3"
  },
  "language_info": {
   "codemirror_mode": {
    "name": "ipython",
    "version": 3
   },
   "file_extension": ".py",
   "mimetype": "text/x-python",
   "name": "python",
   "nbconvert_exporter": "python",
   "pygments_lexer": "ipython3",
   "version": "3.7.0"
  },
  "vscode": {
   "interpreter": {
    "hash": "df10a3505701b17119fcb7e3d7f2d07794f5df50b37fdb5d4118a55945757b43"
   }
  }
 },
 "nbformat": 4,
 "nbformat_minor": 5
}
