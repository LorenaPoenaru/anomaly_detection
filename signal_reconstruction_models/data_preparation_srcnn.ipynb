{
 "cells": [
  {
   "cell_type": "code",
   "execution_count": null,
   "id": "29ddbb7c",
   "metadata": {},
   "outputs": [],
   "source": [
    "import pandas as pd\n",
    "import os\n",
    "import math\n",
    "from tqdm import tqdm"
   ]
  },
  {
   "cell_type": "code",
   "execution_count": null,
   "id": "b40b3494",
   "metadata": {},
   "outputs": [],
   "source": [
    "# Yahoo\n",
    "path_files = '../datasets/Yahoo_A1Benchmark/'\n",
    "# NAB\n",
    "#path_files = '../datasets/NAB_realAWSCloudwatch/'"
   ]
  },
  {
   "cell_type": "code",
   "execution_count": null,
   "id": "aea803b6",
   "metadata": {},
   "outputs": [],
   "source": [
    "ts_names = []\n",
    "for i in os.listdir(path_files):\n",
    "    ts_names.append(str(i.split('.csv')[0]))\n",
    "#ts_names"
   ]
  },
  {
   "cell_type": "code",
   "execution_count": null,
   "id": "062af918",
   "metadata": {},
   "outputs": [],
   "source": [
    "for ts_name in tqdm(ts_names):\n",
    "    print(ts_name)\n",
    "    # path to train/test\n",
    "    filename = path_files+ts_name+\".csv\"\n",
    "    \n",
    "    # read ts\n",
    "    df = pd.read_csv(filename)\n",
    "    \n",
    "    # split into train and test\n",
    "    init_train = df[0:math.floor(len(df)/2)]\n",
    "    init_test = df[math.floor(len(df)/2):]\n",
    "    \n",
    "    init_train.to_csv('../datasets/data_nab/data_train/'+ts_name+'.csv')\n",
    "    init_test.to_csv('../datasets/data_nab/data_test/'+ts_name+'.csv')"
   ]
  },
  {
   "cell_type": "code",
   "execution_count": null,
   "id": "2b8c8189",
   "metadata": {},
   "outputs": [],
   "source": []
  },
  {
   "cell_type": "code",
   "execution_count": null,
   "id": "dd51f403",
   "metadata": {},
   "outputs": [],
   "source": []
  },
  {
   "cell_type": "code",
   "execution_count": null,
   "id": "b8e2a7ee",
   "metadata": {},
   "outputs": [],
   "source": []
  }
 ],
 "metadata": {
  "kernelspec": {
   "display_name": "Python 3",
   "language": "python",
   "name": "python3"
  },
  "language_info": {
   "codemirror_mode": {
    "name": "ipython",
    "version": 3
   },
   "file_extension": ".py",
   "mimetype": "text/x-python",
   "name": "python",
   "nbconvert_exporter": "python",
   "pygments_lexer": "ipython3",
   "version": "3.8.8"
  }
 },
 "nbformat": 4,
 "nbformat_minor": 5
}
