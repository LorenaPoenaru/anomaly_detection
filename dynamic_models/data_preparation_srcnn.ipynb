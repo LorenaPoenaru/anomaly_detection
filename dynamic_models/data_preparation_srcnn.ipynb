{
 "cells": [
  {
   "cell_type": "code",
   "execution_count": 2,
   "id": "29ddbb7c",
   "metadata": {},
   "outputs": [],
   "source": [
    "import pandas as pd\n",
    "import os\n",
    "import math\n",
    "from tqdm import tqdm"
   ]
  },
  {
   "cell_type": "code",
   "execution_count": 6,
   "id": "b40b3494",
   "metadata": {},
   "outputs": [],
   "source": [
    "# Yahoo\n",
    "path_files = '../datasets/Yahoo_A1Benchmark/'\n",
    "# NAB\n",
    "#path_files = '../datasets/NAB_realAWSCloudwatch/'"
   ]
  },
  {
   "cell_type": "code",
   "execution_count": 7,
   "id": "aea803b6",
   "metadata": {},
   "outputs": [],
   "source": [
    "ts_names = []\n",
    "for i in os.listdir(path_files):\n",
    "    ts_names.append(str(i.split('.csv')[0]))\n",
    "#ts_names"
   ]
  },
  {
   "cell_type": "code",
   "execution_count": 9,
   "id": "062af918",
   "metadata": {},
   "outputs": [
    {
     "name": "stderr",
     "output_type": "stream",
     "text": [
      " 24%|██▎       | 4/17 [00:00<00:00, 37.04it/s]"
     ]
    },
    {
     "name": "stdout",
     "output_type": "stream",
     "text": [
      "ec2_cpu_utilization_24ae8d\n",
      "ec2_cpu_utilization_53ea38\n",
      "ec2_cpu_utilization_5f5533\n",
      "ec2_cpu_utilization_77c1ca\n",
      "ec2_cpu_utilization_825cc2\n",
      "ec2_cpu_utilization_ac20cd\n",
      "ec2_cpu_utilization_c6585a\n",
      "ec2_cpu_utilization_fe7f93\n",
      "ec2_disk_write_bytes_1ef3de\n"
     ]
    },
    {
     "name": "stderr",
     "output_type": "stream",
     "text": [
      "100%|██████████| 17/17 [00:00<00:00, 49.28it/s]"
     ]
    },
    {
     "name": "stdout",
     "output_type": "stream",
     "text": [
      "ec2_disk_write_bytes_c0d644\n",
      "ec2_network_in_257a54\n",
      "ec2_network_in_5abac7\n",
      "elb_request_count_8c0756\n",
      "grok_asg_anomaly\n",
      "iio_us-east-1_i-a2eb1cd9_NetworkIn\n",
      "rds_cpu_utilization_cc0c53\n",
      "rds_cpu_utilization_e47b3b\n"
     ]
    },
    {
     "name": "stderr",
     "output_type": "stream",
     "text": [
      "\n"
     ]
    }
   ],
   "source": [
    "for ts_name in tqdm(ts_names):\n",
    "    print(ts_name)\n",
    "    # path to train/test\n",
    "    filename = path_files+ts_name+\".csv\"\n",
    "    \n",
    "    # read ts\n",
    "    df = pd.read_csv(filename)\n",
    "    \n",
    "    # split into train and test\n",
    "    init_train = df[0:math.floor(len(df)/2)]\n",
    "    init_test = df[math.floor(len(df)/2):]\n",
    "    \n",
    "    init_train.to_csv('../datasets/data_nab/data_train/'+ts_name+'.csv')\n",
    "    init_test.to_csv('../datasets/data_nab/data_test/'+ts_name+'.csv')"
   ]
  },
  {
   "cell_type": "code",
   "execution_count": null,
   "id": "2b8c8189",
   "metadata": {},
   "outputs": [],
   "source": []
  },
  {
   "cell_type": "code",
   "execution_count": null,
   "id": "dd51f403",
   "metadata": {},
   "outputs": [],
   "source": []
  },
  {
   "cell_type": "code",
   "execution_count": null,
   "id": "b8e2a7ee",
   "metadata": {},
   "outputs": [],
   "source": []
  }
 ],
 "metadata": {
  "kernelspec": {
   "display_name": "Python 3",
   "language": "python",
   "name": "python3"
  },
  "language_info": {
   "codemirror_mode": {
    "name": "ipython",
    "version": 3
   },
   "file_extension": ".py",
   "mimetype": "text/x-python",
   "name": "python",
   "nbconvert_exporter": "python",
   "pygments_lexer": "ipython3",
   "version": "3.7.0"
  }
 },
 "nbformat": 4,
 "nbformat_minor": 5
}
