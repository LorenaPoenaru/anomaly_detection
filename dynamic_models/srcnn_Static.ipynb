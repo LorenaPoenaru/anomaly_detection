{
 "cells": [
  {
   "cell_type": "markdown",
   "id": "d98c6f3d",
   "metadata": {},
   "source": [
    "Copyright (C) Microsoft Corporation. All rights reserved.​\n",
    "\n",
    "Microsoft Corporation (\"Microsoft\") grants you a nonexclusive, perpetual, royalty-free right to use, copy, and modify the software code provided by us (\"Software Code\"). You may not sublicense the Software Code or any use of it (except to your affiliates and to vendors to perform work on your behalf) through distribution, network access, service agreement, lease, rental, or otherwise. This license does not purport to express any claim of ownership over data you may have shared with Microsoft in the creation of the Software Code. Unless applicable law gives you more rights, Microsoft reserves all other rights not expressly granted herein, whether by implication, estoppel or otherwise.\n",
    "\n",
    "THE SOFTWARE CODE IS PROVIDED \"AS IS\", WITHOUT WARRANTY OF ANY KIND, EXPRESS OR IMPLIED, INCLUDING BUT NOT LIMITED TO THE WARRANTIES OF MERCHANTABILITY, FITNESS FOR A PARTICULAR PURPOSE AND NONINFRINGEMENT. IN NO EVENT SHALL MICROSOFT OR ITS LICENSORS BE LIABLE FOR ANY DIRECT, INDIRECT, INCIDENTAL, SPECIAL, EXEMPLARY, OR CONSEQUENTIAL DAMAGES (INCLUDING, BUT NOT LIMITED TO, PROCUREMENT OF SUBSTITUTE GOODS OR SERVICES; LOSS OF USE, DATA, OR PROFITS; OR BUSINESS INTERRUPTION) HOWEVER CAUSED AND ON ANY THEORY OF LIABILITY, WHETHER IN CONTRACT, STRICT LIABILITY, OR TORT (INCLUDING NEGLIGENCE OR OTHERWISE) ARISING IN ANY WAY OUT OF THE USE OF THE SOFTWARE CODE, EVEN IF ADVISED OF THE POSSIBILITY OF SUCH DAMAGE."
   ]
  },
  {
   "cell_type": "code",
   "execution_count": 1,
   "id": "edcb55ba",
   "metadata": {},
   "outputs": [],
   "source": [
    "from utils.net import *\n",
    "from utils.utilsimport *\n",
    "import os\n",
    "import time\n",
    "import pandas as pd\n",
    "import json\n",
    "import torch\n",
    "import numpy as np\n",
    "from msanomalydetector.util import average_filter\n",
    "from competition_metric import evaluate_for_all_series\n",
    "\n",
    "import warnings"
   ]
  },
  {
   "cell_type": "code",
   "execution_count": 2,
   "id": "1fbd19ba",
   "metadata": {},
   "outputs": [],
   "source": [
    "warnings.filterwarnings(\"ignore\")"
   ]
  },
  {
   "cell_type": "markdown",
   "id": "37180fc4",
   "metadata": {},
   "source": [
    "# Functions"
   ]
  },
  {
   "cell_type": "markdown",
   "id": "df7858d9",
   "metadata": {},
   "source": [
    "## Generate Data"
   ]
  },
  {
   "cell_type": "code",
   "execution_count": 3,
   "id": "7d5d2c4b",
   "metadata": {},
   "outputs": [],
   "source": [
    "class gen():\n",
    "    def __init__(self, win_siz, step, nums):\n",
    "        self.control = 0\n",
    "        self.win_siz = win_siz\n",
    "        self.step = step\n",
    "        self.number = nums\n",
    "\n",
    "    def generate_train_data(self, value, back_k=5):\n",
    "        def normalize(a):\n",
    "            amin = np.min(a)\n",
    "            amax = np.max(a)\n",
    "            a = (a - amin) / (amax - amin + 1e-5)\n",
    "            return 3 * a\n",
    "\n",
    "        if back_k <= 5:\n",
    "            back = back_k\n",
    "        else:\n",
    "            back = 5\n",
    "        length = len(value)\n",
    "        tmp = []\n",
    "        for pt in range(self.win_siz, length - back, self.step):\n",
    "            head = max(0, pt - self.win_siz)\n",
    "            tail = min(length - back, pt)\n",
    "            data = np.array(value[head:tail])\n",
    "            data = data.astype(np.float64)\n",
    "\n",
    "            # print('Initial', data)\n",
    "            data = normalize(data)\n",
    "            # print('Normalized', data)\n",
    "            num = np.random.randint(1, self.number)\n",
    "            ids = np.random.choice(self.win_siz, num, replace=False)\n",
    "            lbs = np.zeros(self.win_siz, dtype=np.int64)\n",
    "            if (self.win_siz - 6) not in ids:\n",
    "                self.control += np.random.random()\n",
    "            else:\n",
    "                self.control = 0\n",
    "            if self.control > 100:\n",
    "                ids[0] = self.win_siz - 6\n",
    "                self.control = 0\n",
    "            mean = np.mean(data)\n",
    "            dataavg = average_filter(data)\n",
    "            var = np.var(data)\n",
    "            for id in ids:\n",
    "                data[id] += (dataavg[id] + mean) * np.random.randn() * min((1 + var), 10)\n",
    "                lbs[id] = 1\n",
    "            tmp.append([data.tolist(), lbs.tolist()])\n",
    "        return tmp\n",
    "\n",
    "\n",
    "def auto(dic):\n",
    "    path_auto = os.getcwd() + '/auto.json'\n",
    "    auto = {}\n",
    "    for item, value in dic:\n",
    "        if value != None:\n",
    "            auto[item] = value\n",
    "    with open(path_auto, 'w+') as f:\n",
    "        json.dump(auto, f)\n",
    "\n",
    "\n",
    "def get_path(dataset_path, t):\n",
    "    files_path = []\n",
    "    if t == 'train' or t == 'test':\n",
    "        dir_data = os.getcwd() + '/' + dataset_path + '/' + t\n",
    "        files = os.listdir(dir_data)\n",
    "        files_path += [dir_data + '/' + _ for _ in files]\n",
    "    else:\n",
    "        print('Invalid option')\n",
    "    return files_path"
   ]
  },
  {
   "cell_type": "code",
   "execution_count": null,
   "id": "b2c766c9",
   "metadata": {},
   "outputs": [],
   "source": []
  },
  {
   "cell_type": "markdown",
   "id": "cfd35aad",
   "metadata": {},
   "source": [
    "## Train"
   ]
  },
  {
   "cell_type": "code",
   "execution_count": 4,
   "id": "1cefb419",
   "metadata": {},
   "outputs": [],
   "source": [
    "def auto(epoch):\n",
    "    path_auto = os.getcwd() + '/auto.json'\n",
    "    with open(path_auto, 'r+') as f:\n",
    "        store = json.load(f)\n",
    "    data = store['data']\n",
    "    window = store['window']\n",
    "    store['epoch'] = epoch\n",
    "    with open(path_auto, 'w+') as f:\n",
    "        json.dump(store, f)\n",
    "    return data, window"
   ]
  },
  {
   "cell_type": "markdown",
   "id": "1454bc5c",
   "metadata": {},
   "source": [
    "## Evaluate"
   ]
  },
  {
   "cell_type": "code",
   "execution_count": 5,
   "id": "a3a783e8",
   "metadata": {},
   "outputs": [],
   "source": [
    "def auto():\n",
    "    path_auto = os.getcwd() + '/auto.json'\n",
    "    with open(path_auto, 'r+') as f:\n",
    "        store = json.load(f)\n",
    "    window = store['window']\n",
    "    epoch = store['epoch']\n",
    "    return window, epoch\n",
    "\n",
    "\n",
    "def getfid(path):\n",
    "    return path.split('/')[-1]\n",
    "\n",
    "\n",
    "def get_score(data_source, files, thres, option):\n",
    "    total_time = 0\n",
    "    results = []\n",
    "    savedscore = []\n",
    "\n",
    "    for f in files:\n",
    "        tmp_data = pd.read_csv(f, index_col=0)\n",
    "        in_timestamp = tmp_data['timestamp']\n",
    "        in_value = tmp_data['value']\n",
    "        in_label = tmp_data['is_anomaly']\n",
    "        length = len(in_timestamp)\n",
    "\n",
    "\n",
    "        if model == 'sr_cnn' and len(in_value) < window:\n",
    "            continue\n",
    "        time_start = time.time()\n",
    "        timestamp, label, pre, scores = models[model](np.array(in_timestamp), np.array(in_value), np.array(in_label),\n",
    "                                                      window, net, option, thres)\n",
    "        time_end = time.time()\n",
    "        total_time += time_end - time_start\n",
    "        results.append([timestamp, label, pre, f])\n",
    "        savedscore.append([label, scores, f, timestamp])\n",
    "    return total_time, results, savedscore"
   ]
  },
  {
   "cell_type": "markdown",
   "id": "55ed4330",
   "metadata": {},
   "source": [
    "# Main"
   ]
  },
  {
   "cell_type": "markdown",
   "id": "dd76a626",
   "metadata": {},
   "source": [
    "#### Parser Values\n",
    "\n"
   ]
  },
  {
   "cell_type": "code",
   "execution_count": 6,
   "id": "775e3ae0",
   "metadata": {},
   "outputs": [],
   "source": [
    "data_train = '../datasets/data_yahoo/'\n",
    "window = 64 # window_nab = 64, window_yahoo = 64\n",
    "step = 8 # step_nab = 8, step_yahoo = 8\n",
    "seed = 54321\n",
    "num = 10"
   ]
  },
  {
   "cell_type": "code",
   "execution_count": 7,
   "id": "63b6d75a",
   "metadata": {},
   "outputs": [],
   "source": [
    "lr = 1e-6 # lr_nab = 1e-5, lr_yahoo = 1e-6\n",
    "load = False\n",
    "save = 'snapshot'\n",
    "epoch = 10\n",
    "batch_size = 256\n",
    "num_workers = 8\n",
    "model = 'sr_cnn'\n",
    "auto = False"
   ]
  },
  {
   "cell_type": "code",
   "execution_count": 8,
   "id": "cb551c8e",
   "metadata": {},
   "outputs": [],
   "source": [
    "data_test = '../datasets/data_yahoo'\n",
    "epoch = 10\n",
    "model_path_snapshot = 'snapshot'\n",
    "delay = 0\n",
    "thres = 0.95\n",
    "auto = False\n",
    "missing_option = 'anomaly'"
   ]
  },
  {
   "cell_type": "code",
   "execution_count": null,
   "id": "5380fc6a",
   "metadata": {},
   "outputs": [],
   "source": []
  },
  {
   "cell_type": "markdown",
   "id": "b2638490",
   "metadata": {},
   "source": [
    "## Generate Data"
   ]
  },
  {
   "cell_type": "code",
   "execution_count": 9,
   "id": "14a7bff6",
   "metadata": {
    "scrolled": true
   },
   "outputs": [],
   "source": [
    "files = get_path(data_train, 'train')\n",
    "\n",
    "#print('FILES', files)\n",
    "\n",
    "train_data_path = os.getcwd() + '/' + data_train + '_' + str(window) + '_train.json'\n",
    "\n",
    "results = []\n",
    "total_time = 0\n",
    "\n",
    "#print(\"generating train data\")\n",
    "generator = gen(window, step, num)\n",
    "for f in files:\n",
    "    #print('reading', f)\n",
    "\n",
    "    file_read = pd.read_csv(f)\n",
    "    in_timestamp = file_read['timestamp']\n",
    "    in_value = file_read['value']\n",
    "    in_label = []\n",
    "    if len(in_value) < window:\n",
    "        continue\n",
    "    time_start = time.time()\n",
    "    train_data = generator.generate_train_data(in_value)\n",
    "    time_end = time.time()\n",
    "    total_time += time_end - time_start\n",
    "    results += train_data\n",
    "    \n",
    "with open(train_data_path, 'w+') as f:\n",
    "    json.dump(results, f)\n",
    "\n"
   ]
  },
  {
   "cell_type": "code",
   "execution_count": null,
   "id": "e1f36098",
   "metadata": {},
   "outputs": [],
   "source": []
  },
  {
   "cell_type": "code",
   "execution_count": null,
   "id": "880a4c13",
   "metadata": {},
   "outputs": [],
   "source": []
  },
  {
   "cell_type": "markdown",
   "id": "d6d7a7e4",
   "metadata": {},
   "source": [
    "## Train"
   ]
  },
  {
   "cell_type": "code",
   "execution_count": 10,
   "id": "506abf33",
   "metadata": {
    "scrolled": true
   },
   "outputs": [
    {
     "name": "stderr",
     "output_type": "stream",
     "text": [
      "\r\n",
      "Iteration:   0%|          | 0/22 [00:00<?, ?it/s]"
     ]
    },
    {
     "name": "stdout",
     "output_type": "stream",
     "text": [
      "Anomaly(\n",
      "  (layer1): Conv1d(64, 64, kernel_size=(1,), stride=(1,))\n",
      "  (layer2): Conv1d(64, 128, kernel_size=(1,), stride=(1,))\n",
      "  (fc1): Linear(in_features=128, out_features=256, bias=True)\n",
      "  (fc2): Linear(in_features=256, out_features=64, bias=True)\n",
      "  (relu): ReLU(inplace=True)\n",
      ")\n",
      "length : 5385\n",
      "epoch : 1\n"
     ]
    },
    {
     "name": "stderr",
     "output_type": "stream",
     "text": [
      "Iteration:  45%|████▌     | 10/22 [00:10<00:09,  1.32it/s]"
     ]
    },
    {
     "name": "stdout",
     "output_type": "stream",
     "text": [
      "Train Epoch: 1 [0/5385 (0%)]\tLoss: 81.277008\n"
     ]
    },
    {
     "name": "stderr",
     "output_type": "stream",
     "text": [
      "Iteration: 100%|██████████| 22/22 [00:50<00:00,  2.30s/it]\n",
      "Iteration:   0%|          | 0/22 [00:00<?, ?it/s]"
     ]
    },
    {
     "name": "stdout",
     "output_type": "stream",
     "text": [
      "epoch : 2\n"
     ]
    },
    {
     "name": "stderr",
     "output_type": "stream",
     "text": [
      "Iteration:  41%|████      | 9/22 [00:11<00:11,  1.10it/s]"
     ]
    },
    {
     "name": "stdout",
     "output_type": "stream",
     "text": [
      "Train Epoch: 2 [0/5385 (0%)]\tLoss: 72.570122\n"
     ]
    },
    {
     "name": "stderr",
     "output_type": "stream",
     "text": [
      "Iteration: 100%|██████████| 22/22 [00:51<00:00,  2.33s/it]\n",
      "Iteration:   0%|          | 0/22 [00:00<?, ?it/s]"
     ]
    },
    {
     "name": "stdout",
     "output_type": "stream",
     "text": [
      "epoch : 3\n"
     ]
    },
    {
     "name": "stderr",
     "output_type": "stream",
     "text": [
      "Iteration:  41%|████      | 9/22 [00:11<00:12,  1.04it/s]"
     ]
    },
    {
     "name": "stdout",
     "output_type": "stream",
     "text": [
      "Train Epoch: 3 [0/5385 (0%)]\tLoss: 69.636566\n"
     ]
    },
    {
     "name": "stderr",
     "output_type": "stream",
     "text": [
      "Iteration: 100%|██████████| 22/22 [00:52<00:00,  2.36s/it]\n",
      "Iteration:   0%|          | 0/22 [00:00<?, ?it/s]"
     ]
    },
    {
     "name": "stdout",
     "output_type": "stream",
     "text": [
      "epoch : 4\n"
     ]
    },
    {
     "name": "stderr",
     "output_type": "stream",
     "text": [
      "Iteration:  41%|████      | 9/22 [00:11<00:11,  1.08it/s]"
     ]
    },
    {
     "name": "stdout",
     "output_type": "stream",
     "text": [
      "Train Epoch: 4 [0/5385 (0%)]\tLoss: 64.248779\n"
     ]
    },
    {
     "name": "stderr",
     "output_type": "stream",
     "text": [
      "Iteration: 100%|██████████| 22/22 [00:51<00:00,  2.34s/it]\n",
      "Iteration:   0%|          | 0/22 [00:00<?, ?it/s]"
     ]
    },
    {
     "name": "stdout",
     "output_type": "stream",
     "text": [
      "epoch : 5\n"
     ]
    },
    {
     "name": "stderr",
     "output_type": "stream",
     "text": [
      "Iteration:  41%|████      | 9/22 [00:10<00:11,  1.15it/s]"
     ]
    },
    {
     "name": "stdout",
     "output_type": "stream",
     "text": [
      "Train Epoch: 5 [0/5385 (0%)]\tLoss: 62.446026\n"
     ]
    },
    {
     "name": "stderr",
     "output_type": "stream",
     "text": [
      "Iteration: 100%|██████████| 22/22 [00:50<00:00,  2.31s/it]\n",
      "Iteration:   0%|          | 0/22 [00:00<?, ?it/s]"
     ]
    },
    {
     "name": "stdout",
     "output_type": "stream",
     "text": [
      "epoch : 6\n"
     ]
    },
    {
     "name": "stderr",
     "output_type": "stream",
     "text": [
      "Iteration:  41%|████      | 9/22 [00:11<00:11,  1.11it/s]"
     ]
    },
    {
     "name": "stdout",
     "output_type": "stream",
     "text": [
      "Train Epoch: 6 [0/5385 (0%)]\tLoss: 58.296474\n"
     ]
    },
    {
     "name": "stderr",
     "output_type": "stream",
     "text": [
      "Iteration: 100%|██████████| 22/22 [00:51<00:00,  2.33s/it]\n",
      "Iteration:   0%|          | 0/22 [00:00<?, ?it/s]"
     ]
    },
    {
     "name": "stdout",
     "output_type": "stream",
     "text": [
      "epoch : 7\n"
     ]
    },
    {
     "name": "stderr",
     "output_type": "stream",
     "text": [
      "Iteration:  45%|████▌     | 10/22 [00:10<00:09,  1.30it/s]"
     ]
    },
    {
     "name": "stdout",
     "output_type": "stream",
     "text": [
      "Train Epoch: 7 [0/5385 (0%)]\tLoss: 55.658203\n"
     ]
    },
    {
     "name": "stderr",
     "output_type": "stream",
     "text": [
      "Iteration: 100%|██████████| 22/22 [00:50<00:00,  2.31s/it]\n",
      "Iteration:   0%|          | 0/22 [00:00<?, ?it/s]"
     ]
    },
    {
     "name": "stdout",
     "output_type": "stream",
     "text": [
      "epoch : 8\n"
     ]
    },
    {
     "name": "stderr",
     "output_type": "stream",
     "text": [
      "Iteration:  41%|████      | 9/22 [00:10<00:11,  1.13it/s]"
     ]
    },
    {
     "name": "stdout",
     "output_type": "stream",
     "text": [
      "Train Epoch: 8 [0/5385 (0%)]\tLoss: 56.198830\n"
     ]
    },
    {
     "name": "stderr",
     "output_type": "stream",
     "text": [
      "Iteration: 100%|██████████| 22/22 [00:51<00:00,  2.32s/it]\n",
      "Iteration:   0%|          | 0/22 [00:00<?, ?it/s]"
     ]
    },
    {
     "name": "stdout",
     "output_type": "stream",
     "text": [
      "epoch : 9\n"
     ]
    },
    {
     "name": "stderr",
     "output_type": "stream",
     "text": [
      "Iteration:  41%|████      | 9/22 [00:11<00:11,  1.12it/s]"
     ]
    },
    {
     "name": "stdout",
     "output_type": "stream",
     "text": [
      "Train Epoch: 9 [0/5385 (0%)]\tLoss: 52.204941\n"
     ]
    },
    {
     "name": "stderr",
     "output_type": "stream",
     "text": [
      "Iteration: 100%|██████████| 22/22 [00:51<00:00,  2.33s/it]\n",
      "Iteration:   0%|          | 0/22 [00:00<?, ?it/s]"
     ]
    },
    {
     "name": "stdout",
     "output_type": "stream",
     "text": [
      "epoch : 10\n"
     ]
    },
    {
     "name": "stderr",
     "output_type": "stream",
     "text": [
      "Iteration:  41%|████      | 9/22 [00:13<00:13,  1.06s/it]"
     ]
    },
    {
     "name": "stdout",
     "output_type": "stream",
     "text": [
      "Train Epoch: 10 [0/5385 (0%)]\tLoss: 51.389824\n"
     ]
    },
    {
     "name": "stderr",
     "output_type": "stream",
     "text": [
      "Iteration: 100%|██████████| 22/22 [00:53<00:00,  2.42s/it]\n"
     ]
    }
   ],
   "source": [
    "# you need to create a folder called snapshot where the model will be saved (file_name.bin)\n",
    "\n",
    "if auto:\n",
    "    data_train, window = auto(epoch)\n",
    "else:\n",
    "    data_train, window = data_train, window\n",
    "torch.manual_seed(seed)\n",
    "np.random.seed(seed)\n",
    "models = {\n",
    "    'sr_cnn': sr_cnn,\n",
    "}\n",
    "model = model\n",
    "root_path = os.getcwd()\n",
    "\n",
    "train_data_path = root_path + '/' + data_train + '_' + str(window) + '_train.json'\n",
    "model_path = root_path + '/' + save + '/'\n",
    "#print('MODEL PATH', model_path)\n",
    "if load:\n",
    "    load_path = root_path + '/' + load\n",
    "else:\n",
    "    load_path = None\n",
    "\n",
    "#print('LOAD PATH', load_path)\n",
    "\n",
    "total_time = 0\n",
    "time_start = time.time()\n",
    "models[model](train_data_path, model_path, window, lr, epoch, batch_size, num_workers,\n",
    "              load_path=load_path)\n",
    "time_end = time.time()\n",
    "total_time += time_end - time_start\n",
    "#print('time used for training:', total_time, 'seconds')\n"
   ]
  },
  {
   "cell_type": "markdown",
   "id": "6ec136b3",
   "metadata": {},
   "source": [
    "## Evaluate"
   ]
  },
  {
   "cell_type": "code",
   "execution_count": 11,
   "id": "f70bd8ac",
   "metadata": {},
   "outputs": [
    {
     "name": "stdout",
     "output_type": "stream",
     "text": [
      "loading /Users/lorenapoenaru-olaru/PycharmProjects/aiops/anomaly_detection/snapshot/srcnn_retry_None_None_10_64.bin\n",
      "precision 0.6484517304189436\n",
      "recall 0.4801078894133513\n",
      "f1 0.5517241379310345\n",
      "-------------------------------\n"
     ]
    }
   ],
   "source": [
    "if auto:\n",
    "    window, epoch = auto()\n",
    "else:\n",
    "    window = window\n",
    "    epoch = epoch\n",
    "data_source = data_test\n",
    "delay = delay\n",
    "model = model\n",
    "\n",
    "path_snapshot = '../'\n",
    "\n",
    "root = os.getcwd()\n",
    "models = {\n",
    "    'sr_cnn': sr_cnn_eval,\n",
    "}\n",
    "\n",
    "model_path = path_snapshot + '/' + model_path_snapshot + '/srcnn_retry_' + 'None_' + 'None_' + str(epoch) + '_' + str(window) + '.bin'\n",
    "\n",
    "srcnn_model = Anomaly(window)\n",
    "net = load_model(srcnn_model, model_path)\n",
    "\n",
    "files = get_path(data_source, 'test')\n",
    "\n",
    "total_time, results, savedscore = get_score(data_source, files, thres, missing_option)\n",
    "\n",
    "total_fscore, pre, rec, TP, FP, TN, FN = evaluate_for_all_series(results, delay=0)\n",
    "\n"
   ]
  }
 ],
 "metadata": {
  "kernelspec": {
   "display_name": "Python 3",
   "language": "python",
   "name": "python3"
  },
  "language_info": {
   "codemirror_mode": {
    "name": "ipython",
    "version": 3
   },
   "file_extension": ".py",
   "mimetype": "text/x-python",
   "name": "python",
   "nbconvert_exporter": "python",
   "pygments_lexer": "ipython3",
   "version": "3.8.8"
  }
 },
 "nbformat": 4,
 "nbformat_minor": 5
}
